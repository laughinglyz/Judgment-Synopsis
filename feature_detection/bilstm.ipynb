{
 "cells": [
  {
   "cell_type": "code",
   "execution_count": 1,
   "metadata": {},
   "outputs": [],
   "source": [
    "import csv\n",
    "import re\n",
    "import pandas as pd\n",
    "from nltk.corpus import stopwords\n",
    "from nltk.tokenize import word_tokenize\n",
    "from nltk.stem import WordNetLemmatizer\n",
    "import numpy as np\n",
    "from sklearn.model_selection import KFold"
   ]
  },
  {
   "cell_type": "code",
   "execution_count": 2,
   "metadata": {},
   "outputs": [],
   "source": [
    "import os\n",
    "# os.environ[\"CUDA_VISIBLE_DEVICES\"]=\"0 1\""
   ]
  },
  {
   "cell_type": "code",
   "execution_count": 3,
   "metadata": {},
   "outputs": [],
   "source": [
    "# from keras.models import Sequential\n",
    "# from keras.layers.embeddings import Embedding\n",
    "# from keras.layers.recurrent import GRU\n",
    "# from keras.preprocessing.text import Tokenizer\n",
    "# from keras.preprocessing.sequence import pad_sequences\n",
    "# from keras.layers import Dense, LSTM, Bidirectional\n",
    "# import keras\n",
    "\n",
    "from tensorflow.keras.models import Sequential\n",
    "from tensorflow.keras.layers import Embedding,GRU,Dense,LSTM,Bidirectional\n",
    "from tensorflow.keras.preprocessing.text import Tokenizer\n",
    "from tensorflow.keras.preprocessing.sequence import pad_sequences\n",
    "from tensorflow.keras.callbacks import EarlyStopping"
   ]
  },
  {
   "cell_type": "code",
   "execution_count": 4,
   "metadata": {
    "scrolled": true
   },
   "outputs": [],
   "source": [
    "# # Include this block so that keras \n",
    "# # would not use up all the GPU memory.\n",
    "# from keras.backend.tensorflow_backend import set_session\n",
    "# import tensorflow as tf\n",
    "# config = tf.compat.v1.ConfigProto()\n",
    "# config.gpu_options.allow_growth = True  # dynamically grow the memory used on the GPU\n",
    "# # config.log_device_placement = True  # to log device placement (on which device the operation ran)\n",
    "# sess = tf.Session(config=config)\n",
    "# set_session(sess)  # set this TensorFlow session as the default session for Keras"
   ]
  },
  {
   "cell_type": "code",
   "execution_count": 5,
   "metadata": {},
   "outputs": [],
   "source": [
    "# import tensorflow as tf\n",
    "# with tf.device('/gpu:0'):\n",
    "#     a = tf.constant([1.0, 2.0, 3.0, 4.0, 5.0, 6.0], shape=[2, 3], name='a')\n",
    "#     b = tf.constant([1.0, 2.0, 3.0, 4.0, 5.0, 6.0], shape=[3, 2], name='b')\n",
    "#     c = tf.matmul(a, b)\n",
    "\n",
    "# with tf.Session() as sess:\n",
    "#     print (sess.run(c))\n",
    "\n",
    "# from keras import backend as K\n",
    "# K.tensorflow_backend._get_available_gpus()"
   ]
  },
  {
   "cell_type": "code",
   "execution_count": 6,
   "metadata": {},
   "outputs": [
    {
     "data": {
      "text/plain": [
       "[PhysicalDevice(name='/physical_device:GPU:0', device_type='GPU'),\n",
       " PhysicalDevice(name='/physical_device:GPU:1', device_type='GPU')]"
      ]
     },
     "execution_count": 6,
     "metadata": {},
     "output_type": "execute_result"
    }
   ],
   "source": [
    "import tensorflow as tf\n",
    "tf.config.list_physical_devices('GPU')"
   ]
  },
  {
   "cell_type": "code",
   "execution_count": 7,
   "metadata": {},
   "outputs": [
    {
     "name": "stderr",
     "output_type": "stream",
     "text": [
      "[nltk_data] Downloading package punkt to /home/fyp5/nltk_data...\n",
      "[nltk_data]   Package punkt is already up-to-date!\n",
      "[nltk_data] Downloading package wordnet to /home/fyp5/nltk_data...\n",
      "[nltk_data]   Package wordnet is already up-to-date!\n",
      "[nltk_data] Downloading package stopwords to /home/fyp5/nltk_data...\n",
      "[nltk_data]   Package stopwords is already up-to-date!\n"
     ]
    },
    {
     "data": {
      "text/plain": [
       "True"
      ]
     },
     "execution_count": 7,
     "metadata": {},
     "output_type": "execute_result"
    }
   ],
   "source": [
    "import nltk\n",
    "nltk.download('punkt')\n",
    "nltk.download('wordnet')\n",
    "nltk.download('stopwords')"
   ]
  },
  {
   "cell_type": "code",
   "execution_count": 8,
   "metadata": {},
   "outputs": [],
   "source": [
    "datafiles_path = './data/drug_feature_content.csv'\n",
    "data_files = pd.read_csv(datafiles_path)"
   ]
  },
  {
   "cell_type": "code",
   "execution_count": 9,
   "metadata": {
    "scrolled": true
   },
   "outputs": [
    {
     "data": {
      "text/html": [
       "<div>\n",
       "<style scoped>\n",
       "    .dataframe tbody tr th:only-of-type {\n",
       "        vertical-align: middle;\n",
       "    }\n",
       "\n",
       "    .dataframe tbody tr th {\n",
       "        vertical-align: top;\n",
       "    }\n",
       "\n",
       "    .dataframe thead th {\n",
       "        text-align: right;\n",
       "    }\n",
       "</style>\n",
       "<table border=\"1\" class=\"dataframe\">\n",
       "  <thead>\n",
       "    <tr style=\"text-align: right;\">\n",
       "      <th></th>\n",
       "      <th>neutral_citation</th>\n",
       "      <th>trial_id</th>\n",
       "      <th>remorse</th>\n",
       "      <th>self_consume</th>\n",
       "      <th>controlled_delivery</th>\n",
       "      <th>testimony</th>\n",
       "      <th>good_character</th>\n",
       "      <th>guilty_plea_stage</th>\n",
       "      <th>refugee</th>\n",
       "      <th>bail</th>\n",
       "      <th>street</th>\n",
       "      <th>persistent</th>\n",
       "      <th>international</th>\n",
       "      <th>content</th>\n",
       "    </tr>\n",
       "  </thead>\n",
       "  <tbody>\n",
       "    <tr>\n",
       "      <th>0</th>\n",
       "      <td>[2018] hkcfi 2360</td>\n",
       "      <td>2160</td>\n",
       "      <td>0</td>\n",
       "      <td>0</td>\n",
       "      <td>0</td>\n",
       "      <td>0</td>\n",
       "      <td>0</td>\n",
       "      <td>0</td>\n",
       "      <td>0</td>\n",
       "      <td>0</td>\n",
       "      <td>0</td>\n",
       "      <td>1</td>\n",
       "      <td>1</td>\n",
       "      <td>##  HKSAR v. CHUNG YIU LAM [2018] HKCFI 2360; ...</td>\n",
       "    </tr>\n",
       "    <tr>\n",
       "      <th>1</th>\n",
       "      <td>[2013] hkcfi 1943</td>\n",
       "      <td>1951</td>\n",
       "      <td>0</td>\n",
       "      <td>0</td>\n",
       "      <td>0</td>\n",
       "      <td>0</td>\n",
       "      <td>0</td>\n",
       "      <td>1</td>\n",
       "      <td>0</td>\n",
       "      <td>0</td>\n",
       "      <td>0</td>\n",
       "      <td>0</td>\n",
       "      <td>1</td>\n",
       "      <td>##  HKSAR v. KIWAMBA, WATENDE SUDI [2013] HKCF...</td>\n",
       "    </tr>\n",
       "    <tr>\n",
       "      <th>2</th>\n",
       "      <td>[2009] hkdc 1600</td>\n",
       "      <td>872</td>\n",
       "      <td>0</td>\n",
       "      <td>0</td>\n",
       "      <td>0</td>\n",
       "      <td>0</td>\n",
       "      <td>0</td>\n",
       "      <td>1</td>\n",
       "      <td>0</td>\n",
       "      <td>0</td>\n",
       "      <td>0</td>\n",
       "      <td>0</td>\n",
       "      <td>0</td>\n",
       "      <td>##  HKSAR v. YAU SUET YIM [2009] HKDC 1600; DC...</td>\n",
       "    </tr>\n",
       "    <tr>\n",
       "      <th>3</th>\n",
       "      <td>[2010] hkdc 1392</td>\n",
       "      <td>1742</td>\n",
       "      <td>1</td>\n",
       "      <td>0</td>\n",
       "      <td>0</td>\n",
       "      <td>0</td>\n",
       "      <td>0</td>\n",
       "      <td>1</td>\n",
       "      <td>0</td>\n",
       "      <td>0</td>\n",
       "      <td>0</td>\n",
       "      <td>0</td>\n",
       "      <td>0</td>\n",
       "      <td>* * *  ##  HKSAR v. MA KWOK WAI [2010] HKDC 13...</td>\n",
       "    </tr>\n",
       "    <tr>\n",
       "      <th>4</th>\n",
       "      <td>[2009] hkdc 1759</td>\n",
       "      <td>725</td>\n",
       "      <td>0</td>\n",
       "      <td>0</td>\n",
       "      <td>0</td>\n",
       "      <td>0</td>\n",
       "      <td>0</td>\n",
       "      <td>1</td>\n",
       "      <td>0</td>\n",
       "      <td>0</td>\n",
       "      <td>0</td>\n",
       "      <td>0</td>\n",
       "      <td>0</td>\n",
       "      <td>##  HKSAR v. NAM HOI CHOW [2009] HKDC 1759; DC...</td>\n",
       "    </tr>\n",
       "  </tbody>\n",
       "</table>\n",
       "</div>"
      ],
      "text/plain": [
       "    neutral_citation  trial_id  remorse  self_consume  controlled_delivery  \\\n",
       "0  [2018] hkcfi 2360      2160        0             0                    0   \n",
       "1  [2013] hkcfi 1943      1951        0             0                    0   \n",
       "2   [2009] hkdc 1600       872        0             0                    0   \n",
       "3   [2010] hkdc 1392      1742        1             0                    0   \n",
       "4   [2009] hkdc 1759       725        0             0                    0   \n",
       "\n",
       "   testimony  good_character  guilty_plea_stage  refugee  bail  street  \\\n",
       "0          0               0                  0        0     0       0   \n",
       "1          0               0                  1        0     0       0   \n",
       "2          0               0                  1        0     0       0   \n",
       "3          0               0                  1        0     0       0   \n",
       "4          0               0                  1        0     0       0   \n",
       "\n",
       "   persistent  international  \\\n",
       "0           1              1   \n",
       "1           0              1   \n",
       "2           0              0   \n",
       "3           0              0   \n",
       "4           0              0   \n",
       "\n",
       "                                             content  \n",
       "0  ##  HKSAR v. CHUNG YIU LAM [2018] HKCFI 2360; ...  \n",
       "1  ##  HKSAR v. KIWAMBA, WATENDE SUDI [2013] HKCF...  \n",
       "2  ##  HKSAR v. YAU SUET YIM [2009] HKDC 1600; DC...  \n",
       "3  * * *  ##  HKSAR v. MA KWOK WAI [2010] HKDC 13...  \n",
       "4  ##  HKSAR v. NAM HOI CHOW [2009] HKDC 1759; DC...  "
      ]
     },
     "execution_count": 9,
     "metadata": {},
     "output_type": "execute_result"
    }
   ],
   "source": [
    "data_files.head()"
   ]
  },
  {
   "cell_type": "code",
   "execution_count": 10,
   "metadata": {},
   "outputs": [],
   "source": [
    "datas_X = data_files['content']\n",
    "\n",
    "\n",
    "datas_Y = data_files.drop(['neutral_citation'], axis = 1)\n",
    "datas_Y = datas_Y.drop(['content'], axis = 1)\n",
    "datas_Y = datas_Y.drop(['trial_id'], axis = 1)\n",
    "datas_Y = datas_Y.drop(['guilty_plea_stage'], axis = 1)\n",
    "datas_Y = datas_Y.drop(['street'], axis = 1)"
   ]
  },
  {
   "cell_type": "code",
   "execution_count": 11,
   "metadata": {},
   "outputs": [
    {
     "data": {
      "text/plain": [
       "0    ##  HKSAR v. CHUNG YIU LAM [2018] HKCFI 2360; ...\n",
       "1    ##  HKSAR v. KIWAMBA, WATENDE SUDI [2013] HKCF...\n",
       "2    ##  HKSAR v. YAU SUET YIM [2009] HKDC 1600; DC...\n",
       "3    * * *  ##  HKSAR v. MA KWOK WAI [2010] HKDC 13...\n",
       "4    ##  HKSAR v. NAM HOI CHOW [2009] HKDC 1759; DC...\n",
       "Name: content, dtype: object"
      ]
     },
     "execution_count": 11,
     "metadata": {},
     "output_type": "execute_result"
    }
   ],
   "source": [
    "datas_X.head()"
   ]
  },
  {
   "cell_type": "code",
   "execution_count": 12,
   "metadata": {
    "scrolled": true
   },
   "outputs": [
    {
     "data": {
      "text/html": [
       "<div>\n",
       "<style scoped>\n",
       "    .dataframe tbody tr th:only-of-type {\n",
       "        vertical-align: middle;\n",
       "    }\n",
       "\n",
       "    .dataframe tbody tr th {\n",
       "        vertical-align: top;\n",
       "    }\n",
       "\n",
       "    .dataframe thead th {\n",
       "        text-align: right;\n",
       "    }\n",
       "</style>\n",
       "<table border=\"1\" class=\"dataframe\">\n",
       "  <thead>\n",
       "    <tr style=\"text-align: right;\">\n",
       "      <th></th>\n",
       "      <th>remorse</th>\n",
       "      <th>self_consume</th>\n",
       "      <th>controlled_delivery</th>\n",
       "      <th>testimony</th>\n",
       "      <th>good_character</th>\n",
       "      <th>refugee</th>\n",
       "      <th>bail</th>\n",
       "      <th>persistent</th>\n",
       "      <th>international</th>\n",
       "    </tr>\n",
       "  </thead>\n",
       "  <tbody>\n",
       "    <tr>\n",
       "      <th>0</th>\n",
       "      <td>0</td>\n",
       "      <td>0</td>\n",
       "      <td>0</td>\n",
       "      <td>0</td>\n",
       "      <td>0</td>\n",
       "      <td>0</td>\n",
       "      <td>0</td>\n",
       "      <td>1</td>\n",
       "      <td>1</td>\n",
       "    </tr>\n",
       "    <tr>\n",
       "      <th>1</th>\n",
       "      <td>0</td>\n",
       "      <td>0</td>\n",
       "      <td>0</td>\n",
       "      <td>0</td>\n",
       "      <td>0</td>\n",
       "      <td>0</td>\n",
       "      <td>0</td>\n",
       "      <td>0</td>\n",
       "      <td>1</td>\n",
       "    </tr>\n",
       "    <tr>\n",
       "      <th>2</th>\n",
       "      <td>0</td>\n",
       "      <td>0</td>\n",
       "      <td>0</td>\n",
       "      <td>0</td>\n",
       "      <td>0</td>\n",
       "      <td>0</td>\n",
       "      <td>0</td>\n",
       "      <td>0</td>\n",
       "      <td>0</td>\n",
       "    </tr>\n",
       "    <tr>\n",
       "      <th>3</th>\n",
       "      <td>1</td>\n",
       "      <td>0</td>\n",
       "      <td>0</td>\n",
       "      <td>0</td>\n",
       "      <td>0</td>\n",
       "      <td>0</td>\n",
       "      <td>0</td>\n",
       "      <td>0</td>\n",
       "      <td>0</td>\n",
       "    </tr>\n",
       "    <tr>\n",
       "      <th>4</th>\n",
       "      <td>0</td>\n",
       "      <td>0</td>\n",
       "      <td>0</td>\n",
       "      <td>0</td>\n",
       "      <td>0</td>\n",
       "      <td>0</td>\n",
       "      <td>0</td>\n",
       "      <td>0</td>\n",
       "      <td>0</td>\n",
       "    </tr>\n",
       "  </tbody>\n",
       "</table>\n",
       "</div>"
      ],
      "text/plain": [
       "   remorse  self_consume  controlled_delivery  testimony  good_character  \\\n",
       "0        0             0                    0          0               0   \n",
       "1        0             0                    0          0               0   \n",
       "2        0             0                    0          0               0   \n",
       "3        1             0                    0          0               0   \n",
       "4        0             0                    0          0               0   \n",
       "\n",
       "   refugee  bail  persistent  international  \n",
       "0        0     0           1              1  \n",
       "1        0     0           0              1  \n",
       "2        0     0           0              0  \n",
       "3        0     0           0              0  \n",
       "4        0     0           0              0  "
      ]
     },
     "execution_count": 12,
     "metadata": {},
     "output_type": "execute_result"
    }
   ],
   "source": [
    "datas_Y.head()"
   ]
  },
  {
   "cell_type": "code",
   "execution_count": 13,
   "metadata": {
    "scrolled": true
   },
   "outputs": [
    {
     "data": {
      "text/plain": [
       "'##  HKSAR v. CHUNG YIU LAM [2018] HKCFI 2360; HCCC 36/2018 (16 August 2018)  HCCC 36/2018  [2018] HKCFI 2360  IN THE HIGH COURT OF THE  HONG KONG SPECIAL ADMINISTRATIVE REGION  COURT OF FIRST INSTANCE  CRIMINAL CASE NO 36 OF 2018  \\\\-----------------  HKSAR   v   CHUNG Yiu-lam      \\\\------------------  Before: Hon Yau J   Date: 16 August 2018 at 3.13 pm   Present: Mr Paul Leung, on fiat, for HKSAR   Mr Phil Chau, instructed by Cheung & Liu, assigned by DLA, for the accused   Offence: Trafficking in a dangerous drug (販運危險藥物)       \\\\-------------------------------------------------  Transcript of the Audio Recording  of the Sentence in the above Case  \\\\-------------------------------------------------  COURT:  The defendant, Mr Chung Yiu-lam, faces one count of trafficking in a dangerous drug contrary to section 4(1)(a) and (3) of the Dangerous Drugs Ordinance, Chapter 134. The particulars of the offence are that the defendant, on the 18th day of September 2014, in Hong Kong, together with Yeung Hoi‑ting, unlawfully trafficked in a dangerous drug, namely 4.96 kilogrammes of a crystalline solid containing 4.86 kilogrammes of methamphetamine hydrochloride. He pleads not guilty to the offence and is convicted unanimously by the jury after trial.  Evidence in the trial  On 18 September 2014, at about 8.40 am, police officers who were conducting anti-dangerous drug operation in Mong Kok, found the defendant suspicious and followed him on taxi to Sheung Shui Railway Station where the defendant was joined by a female, Madam Yeung Hoi-ting. They walked to the urban taxi-stand outside the railway station and were chatting on the way.  The defendant boarded a taxi, sitting on the passenger seat behind the driver’s seat. He told the driver to go to Mong Kok. Madam Yeung put a bag with the pattern of a Paddington Bear into the foot-well of the taxi between the passenger and driver’s seats. The defendant and Madam Yeung continued chatting and when Madam Yeung was about to move back from the taxi and the defendant about to close the taxi door the police rushed in to stop them.  Inside the Paddington Bear bag the police found a white plastic bag containing a black plastic bag. Inside the black plastic bag there were four packets of crystalline solid of a total weight of 4.96 kilogrammes containing 4.86 kilogrammes of methamphetamine hydrochloride, commonly called ‘Ice’. The defendant and Madam Yeung were arrested for the offence of trafficking in a dangerous drug. Madam Yeung pleaded guilty to the offence and was sentenced to 18 years and 10 months’ imprisonment.  The defendant gives evidence during the trial that he and Madam Yeung were lovers and had had a sexual relationship for about eight months at the time of the offence. After finishing work at the illegal mah-jong parlour the defendant operated with two partners in Mong Kok in the morning of 18 September 2014, the defendant went to Sheung Shui Railway Station to pick up Madam Yeung who was coming back to Hong Kong from Shenzhen.  After they met up at the Sheung Shui Railway Station, Madam Yeung told the defendant that she suspected herself to be pregnant. They had a row about whether to keep the baby and were both unhappy. The defendant and Madam Yeung went to take a taxi at the urban taxi-stand outside Sheung Shui Railway Station to go to Madam Yeung’s home at Tsiu Keng Village first for Yeung to put down her things and then to Mong Kok for Madam Yeung to see a doctor to confirm whether she was pregnant.  The defendant boarded the taxi and told the driver to go to Tsiu Keng Village and then to Mong Kok. Madam Yeung then put the Paddington Bear bag into the taxi. When Madam Yeung was about to board the taxi, police officers rushed in and the dangerous drug in question was found inside the Paddington Bear bag. The defendant and Madam Yeung were arrested. The defendant did not know that there was dangerous drug inside the Paddington Bear bag.  Criminal record  The defendant has 9 previous convictions of which 5 counts are trafficking in a dangerous drug and 4 counts possession of a dangerous drug. He was last convicted on 16 March 2009 of one count of possession of a dangerous drug and two counts of trafficking in a dangerous drug and was sentenced to a total of 8 years and 6 months imprisonment.  Mitigation  The defendant is aged 54 and according to the evidence he gives in the trial he is divorced with a daughter aged 32. He received no formal education and he was a part-time decoration worker before the arrest in the present case. Counsel for the defendant points out that the defendant has gone through the ordeal of two trials because the present trial is a second one. The defence counsel informs the court that the judge in the first trial adopted a starting point of 26 years 3 months imprisonment which was enhanced because of the dangerous drug being taken to Hong Kong over the border.  The defence counsel says that the defendant will have to serve a substantial sentence and will be aged more than 70 when he is released. He asks the court to take all this into consideration in sentencing the defendant.  Sentence  According to the authorities, the sentencing guidelines of trafficking in ‘Ice’ are the same as those of trafficking in heroin. In the case of HKSAR v Abdallah Anwar Abbas [2009] 2 HKLRD 437, the starting point for trafficking in 4 kilogrammes to 15 kilogrammes of ‘Ice’ is 26 to 30 years imprisonment. The quantity of ‘Ice’ in the present case is 4.86 kilogrammes and the starting point is, therefore, approximately 26 years and 3 months imprisonment.  On the strength of the evidence adduced in this trial the jury must have come to convict the defendant on the basis that he was acting in joint enterprise with Madam Yeung. He no doubt must know that Madam Yeung had taken the dangerous drug across the border from China to Hong Kong. The court has to take this into consideration in sentencing.  The defendant has a lengthy criminal record connected with dangerous drug and he has five previous convictions of trafficking in a dangerous drug. He committed the present case about 15 months after he was released from prison. These are aggravating factors which the court has to take into consideration. Although this is a retrial which was ordered by the Court of Appeal through no fault of the defendant, the court is of the view that this cannot constitute a valid mitigating factor.  The court adopts a starting point of 26 years 3 months imprisonment and enhances it to 28 years 3 months imprisonment for the international element involved in this case. The starting point is further enhanced to 28 years 9 months imprisonment to reflect the poor criminal record of the defendant and the fact that he committed the present offence not long after serving a sentence in prison.  The court, therefore, adopts a final starting point of 28 years 9 months imprisonment. The court is of the view that the defendant has no valid mitigation and sentences the defendant to 28 years 9 months imprisonment.'"
      ]
     },
     "execution_count": 13,
     "metadata": {},
     "output_type": "execute_result"
    }
   ],
   "source": [
    "data_example = datas_X[0]\n",
    "data_example"
   ]
  },
  {
   "cell_type": "code",
   "execution_count": 14,
   "metadata": {},
   "outputs": [
    {
     "data": {
      "text/plain": [
       "str"
      ]
     },
     "execution_count": 14,
     "metadata": {},
     "output_type": "execute_result"
    }
   ],
   "source": [
    "type(data_example)"
   ]
  },
  {
   "cell_type": "code",
   "execution_count": 15,
   "metadata": {},
   "outputs": [],
   "source": [
    "#Clean up the data\n",
    "\n",
    "#Function to clean up data\n",
    "#•Only take characters inside A-Za-z0-9\n",
    "#•remove stop words\n",
    "#•lemmatize"
   ]
  },
  {
   "cell_type": "code",
   "execution_count": 16,
   "metadata": {},
   "outputs": [],
   "source": [
    "#stopwords = []\n",
    "#with open(\"C:\\\\HKRA\\\\data\\\\data extracting\\\\stop_words_eng.txt\", \"r\") as f:  # 打开文件\n",
    "#    for line in f.readlines():\n",
    "#        line = line.strip('\\n')  #去掉列表中每一个元素的换行符\n",
    "#        stopwords.append(line)\n",
    "    "
   ]
  },
  {
   "cell_type": "code",
   "execution_count": 17,
   "metadata": {},
   "outputs": [],
   "source": [
    "#a = set((stopwords))\n",
    "#a"
   ]
  },
  {
   "cell_type": "code",
   "execution_count": 18,
   "metadata": {},
   "outputs": [],
   "source": [
    "lemmatizer = WordNetLemmatizer()\n",
    "strip_special_chars = re.compile(\"[^A-Za-z ]+\")\n",
    "#stop_words = set(stopwords)\n",
    "stop_words = set(stopwords.words(\"english\"))\n",
    "\n",
    "def cleanUpSentence(r, stop_words = None):\n",
    "    r = r.lower().replace(\"<br />\", \" \")\n",
    "    r = re.sub(strip_special_chars, \"\", r.lower())\n",
    "    if stop_words is not None:\n",
    "        words = word_tokenize(r)\n",
    "        filtered_sentence = []\n",
    "        for w in words:\n",
    "            w = lemmatizer.lemmatize(w)\n",
    "            if w not in stop_words:\n",
    "                filtered_sentence.append(w)\n",
    "        return \" \".join(filtered_sentence)\n",
    "    else:\n",
    "        return r"
   ]
  },
  {
   "cell_type": "code",
   "execution_count": 19,
   "metadata": {},
   "outputs": [],
   "source": [
    "totalX = []\n",
    "totalY = np.array(datas_Y)\n",
    "for i, doc in enumerate(datas_X):\n",
    "    #直接在这里去除\\n，防止\\n可能会让两句话连接处的两个单词连在一起\n",
    "    doc = doc.replace(\"\\n\",\" \")\n",
    "    totalX.append(cleanUpSentence(doc, stop_words))"
   ]
  },
  {
   "cell_type": "code",
   "execution_count": 20,
   "metadata": {
    "scrolled": true
   },
   "outputs": [],
   "source": [
    "# data_example"
   ]
  },
  {
   "cell_type": "code",
   "execution_count": 21,
   "metadata": {
    "scrolled": true
   },
   "outputs": [
    {
     "name": "stdout",
     "output_type": "stream",
     "text": [
      "hksar v kiwamba watende sudi hkcfi hccc october hccc high court hong kong special administrative region court first instance criminal case hksar v kiwamba watende sudi dhcj mcmahon date october present mr p j power ddpp ag department justice hksar mr john p mcnamara instructed simon si co assigned dla accused offence trafficking dangerous drug transcript audio recording sentence case court defendant pleaded guilty eastern magistracy offence trafficking gramme heroin ha committed court sentence march year defendant yearold tanzanian national arrived hong kong international airport flight kenya concealed within body packet containing total charged drug starting point sentence take quantity heroin year imprisonment enhance starting point year imprisonment reflect international element offence substantive mitigation defendant plea guilty reflect reduce sentence one year month imprisonment\n"
     ]
    }
   ],
   "source": [
    "print(totalX[1])"
   ]
  },
  {
   "cell_type": "code",
   "execution_count": 22,
   "metadata": {},
   "outputs": [],
   "source": [
    "# print(totalY[0])"
   ]
  },
  {
   "cell_type": "code",
   "execution_count": 23,
   "metadata": {},
   "outputs": [],
   "source": [
    "# len(totalY)"
   ]
  },
  {
   "cell_type": "code",
   "execution_count": 24,
   "metadata": {},
   "outputs": [
    {
     "name": "stdout",
     "output_type": "stream",
     "text": [
      "max input length is:  2422\n"
     ]
    }
   ],
   "source": [
    "xLengths = [len(word_tokenize(x)) for x in totalX]\n",
    "h = sorted(xLengths)  #sorted lengths 升序 第一个最小\n",
    "maxLength =h[len(h)-1]\n",
    "print(\"max input length is: \",maxLength)"
   ]
  },
  {
   "cell_type": "code",
   "execution_count": 25,
   "metadata": {},
   "outputs": [
    {
     "name": "stdout",
     "output_type": "stream",
     "text": [
      "70% cover input sequence length up to 485\n"
     ]
    }
   ],
   "source": [
    "maxLength = h[int(len(h) * 0.70)]\n",
    "print(\"70% cover input sequence length up to\",maxLength)"
   ]
  },
  {
   "cell_type": "code",
   "execution_count": 26,
   "metadata": {},
   "outputs": [
    {
     "name": "stdout",
     "output_type": "stream",
     "text": [
      "input_vocab_size: 14556\n"
     ]
    }
   ],
   "source": [
    "#给每个句子的词标上id\n",
    "max_vocab_size = 30000\n",
    "input_tokenizer = Tokenizer(max_vocab_size)\n",
    "input_tokenizer.fit_on_texts(totalX)\n",
    "input_vocab_size = len(input_tokenizer.word_index) + 1\n",
    "print(\"input_vocab_size:\",input_vocab_size)\n",
    "#pre-padding and pre-truncating\n",
    "totalX = np.array(pad_sequences(input_tokenizer.texts_to_sequences(totalX), maxlen=maxLength))"
   ]
  },
  {
   "cell_type": "code",
   "execution_count": 27,
   "metadata": {},
   "outputs": [],
   "source": [
    "word_index = input_tokenizer.word_index"
   ]
  },
  {
   "cell_type": "code",
   "execution_count": 28,
   "metadata": {},
   "outputs": [],
   "source": [
    "import gensim\n",
    "from gensim.models import Word2Vec\n",
    "from gensim.utils import simple_preprocess\n",
    "\n",
    "from gensim.models.keyedvectors import KeyedVectors\n",
    "\n",
    "word_vectors = KeyedVectors.load_word2vec_format('./embedding/GoogleNews-vectors-negative300.bin', binary=True)\n",
    "\n",
    "EMBEDDING_DIM=300\n",
    "vocabulary_size=min(len(word_index)+1,max_vocab_size)\n",
    "embedding_matrix = np.zeros((vocabulary_size, EMBEDDING_DIM))\n",
    "count = 0\n",
    "for word, i in word_index.items():\n",
    "    if i>=max_vocab_size:\n",
    "        continue\n",
    "    try:\n",
    "        embedding_vector = word_vectors[word]\n",
    "        embedding_matrix[i] = embedding_vector\n",
    "    except KeyError:\n",
    "        embedding_matrix[i]=np.random.normal(0,np.sqrt(0.25),EMBEDDING_DIM)\n",
    "\n",
    "del(word_vectors)\n"
   ]
  },
  {
   "cell_type": "code",
   "execution_count": 29,
   "metadata": {},
   "outputs": [
    {
     "data": {
      "text/plain": [
       "2545"
      ]
     },
     "execution_count": 29,
     "metadata": {},
     "output_type": "execute_result"
    }
   ],
   "source": [
    "#Create Keras model\n",
    "#num_categories 总标签数\n",
    "num_categories = len(totalY[0])\n",
    "num_categories\n",
    "totalX.shape[0]"
   ]
  },
  {
   "cell_type": "code",
   "execution_count": 30,
   "metadata": {},
   "outputs": [
    {
     "name": "stdout",
     "output_type": "stream",
     "text": [
      "INFO:tensorflow:Using MirroredStrategy with devices ('/job:localhost/replica:0/task:0/device:GPU:0', '/job:localhost/replica:0/task:0/device:GPU:1')\n",
      "Epoch 1/50\n",
      "WARNING:tensorflow:From /home/fyp5/anaconda3/envs/afe/lib/python3.6/site-packages/tensorflow/python/data/ops/multi_device_iterator_ops.py:601: get_next_as_optional (from tensorflow.python.data.ops.iterator_ops) is deprecated and will be removed in a future version.\n",
      "Instructions for updating:\n",
      "Use `tf.data.Iterator.get_next_as_optional()` instead.\n",
      "INFO:tensorflow:batch_all_reduce: 14 all-reduces with algorithm = nccl, num_packs = 1\n",
      "INFO:tensorflow:Reduce to /job:localhost/replica:0/task:0/device:CPU:0 then broadcast to ('/job:localhost/replica:0/task:0/device:CPU:0',).\n",
      "INFO:tensorflow:Reduce to /job:localhost/replica:0/task:0/device:CPU:0 then broadcast to ('/job:localhost/replica:0/task:0/device:CPU:0',).\n",
      "INFO:tensorflow:Reduce to /job:localhost/replica:0/task:0/device:CPU:0 then broadcast to ('/job:localhost/replica:0/task:0/device:CPU:0',).\n",
      "INFO:tensorflow:Reduce to /job:localhost/replica:0/task:0/device:CPU:0 then broadcast to ('/job:localhost/replica:0/task:0/device:CPU:0',).\n",
      "INFO:tensorflow:batch_all_reduce: 14 all-reduces with algorithm = nccl, num_packs = 1\n",
      "INFO:tensorflow:Reduce to /job:localhost/replica:0/task:0/device:CPU:0 then broadcast to ('/job:localhost/replica:0/task:0/device:CPU:0',).\n",
      "INFO:tensorflow:Reduce to /job:localhost/replica:0/task:0/device:CPU:0 then broadcast to ('/job:localhost/replica:0/task:0/device:CPU:0',).\n",
      "INFO:tensorflow:Reduce to /job:localhost/replica:0/task:0/device:CPU:0 then broadcast to ('/job:localhost/replica:0/task:0/device:CPU:0',).\n",
      "INFO:tensorflow:Reduce to /job:localhost/replica:0/task:0/device:CPU:0 then broadcast to ('/job:localhost/replica:0/task:0/device:CPU:0',).\n",
      "15/15 [==============================] - ETA: 0s - loss: 0.2928 - binary_accuracy: 0.9172INFO:tensorflow:Reduce to /job:localhost/replica:0/task:0/device:CPU:0 then broadcast to ('/job:localhost/replica:0/task:0/device:CPU:0',).\n",
      "INFO:tensorflow:Reduce to /job:localhost/replica:0/task:0/device:CPU:0 then broadcast to ('/job:localhost/replica:0/task:0/device:CPU:0',).\n",
      "15/15 [==============================] - 5s 347ms/step - loss: 0.2928 - binary_accuracy: 0.9172 - val_loss: 0.2075 - val_binary_accuracy: 0.9363\n",
      "Epoch 2/50\n",
      "15/15 [==============================] - 3s 181ms/step - loss: 0.1992 - binary_accuracy: 0.9399 - val_loss: 0.1986 - val_binary_accuracy: 0.9363\n",
      "Epoch 3/50\n",
      "15/15 [==============================] - 3s 181ms/step - loss: 0.1961 - binary_accuracy: 0.9399 - val_loss: 0.1980 - val_binary_accuracy: 0.9363\n",
      "Epoch 4/50\n",
      "15/15 [==============================] - 3s 183ms/step - loss: 0.1906 - binary_accuracy: 0.9399 - val_loss: 0.1984 - val_binary_accuracy: 0.9363\n",
      "Epoch 5/50\n",
      "15/15 [==============================] - 3s 184ms/step - loss: 0.1885 - binary_accuracy: 0.9381 - val_loss: 0.1977 - val_binary_accuracy: 0.9363\n",
      "Epoch 6/50\n",
      "15/15 [==============================] - 3s 183ms/step - loss: 0.1857 - binary_accuracy: 0.9399 - val_loss: 0.1923 - val_binary_accuracy: 0.9346\n",
      "Epoch 7/50\n",
      "15/15 [==============================] - 3s 182ms/step - loss: 0.1837 - binary_accuracy: 0.9401 - val_loss: 0.1971 - val_binary_accuracy: 0.9352\n",
      "Epoch 8/50\n",
      "15/15 [==============================] - 3s 182ms/step - loss: 0.1839 - binary_accuracy: 0.9396 - val_loss: 0.1918 - val_binary_accuracy: 0.9346\n",
      "Epoch 9/50\n",
      "15/15 [==============================] - 3s 182ms/step - loss: 0.1808 - binary_accuracy: 0.9407 - val_loss: 0.1941 - val_binary_accuracy: 0.9357\n",
      "Epoch 10/50\n",
      "15/15 [==============================] - 3s 183ms/step - loss: 0.1777 - binary_accuracy: 0.9417 - val_loss: 0.1903 - val_binary_accuracy: 0.9368\n",
      "Epoch 11/50\n",
      "15/15 [==============================] - 3s 184ms/step - loss: 0.1756 - binary_accuracy: 0.9419 - val_loss: 0.1894 - val_binary_accuracy: 0.9385\n",
      "Epoch 12/50\n",
      "15/15 [==============================] - 3s 182ms/step - loss: 0.1726 - binary_accuracy: 0.9424 - val_loss: 0.1950 - val_binary_accuracy: 0.9395\n",
      "Epoch 13/50\n",
      "15/15 [==============================] - 3s 183ms/step - loss: 0.1686 - binary_accuracy: 0.9443 - val_loss: 0.1933 - val_binary_accuracy: 0.9401\n",
      "Epoch 14/50\n",
      "15/15 [==============================] - 3s 183ms/step - loss: 0.1632 - binary_accuracy: 0.9443 - val_loss: 0.1988 - val_binary_accuracy: 0.9368\n",
      "Epoch 15/50\n",
      "15/15 [==============================] - 3s 183ms/step - loss: 0.1616 - binary_accuracy: 0.9451 - val_loss: 0.1979 - val_binary_accuracy: 0.9346\n",
      "Epoch 16/50\n",
      "15/15 [==============================] - 3s 184ms/step - loss: 0.1596 - binary_accuracy: 0.9454 - val_loss: 0.1987 - val_binary_accuracy: 0.9357\n",
      "Epoch 17/50\n",
      "15/15 [==============================] - 3s 181ms/step - loss: 0.1546 - binary_accuracy: 0.9466 - val_loss: 0.1934 - val_binary_accuracy: 0.9423\n",
      "Epoch 18/50\n",
      "15/15 [==============================] - 3s 182ms/step - loss: 0.1483 - binary_accuracy: 0.9512 - val_loss: 0.1938 - val_binary_accuracy: 0.9401\n",
      "Epoch 19/50\n",
      "15/15 [==============================] - 3s 184ms/step - loss: 0.1409 - binary_accuracy: 0.9555 - val_loss: 0.1971 - val_binary_accuracy: 0.9439\n",
      "Epoch 20/50\n",
      "15/15 [==============================] - 3s 181ms/step - loss: 0.1371 - binary_accuracy: 0.9566 - val_loss: 0.2014 - val_binary_accuracy: 0.9428\n",
      "Epoch 21/50\n",
      "15/15 [==============================] - 3s 183ms/step - loss: 0.1331 - binary_accuracy: 0.9580 - val_loss: 0.1950 - val_binary_accuracy: 0.9450\n",
      "Epoch 22/50\n",
      "15/15 [==============================] - 3s 183ms/step - loss: 0.1242 - binary_accuracy: 0.9623 - val_loss: 0.2074 - val_binary_accuracy: 0.9423\n",
      "Epoch 23/50\n",
      "15/15 [==============================] - 3s 185ms/step - loss: 0.1205 - binary_accuracy: 0.9629 - val_loss: 0.2026 - val_binary_accuracy: 0.9368\n",
      "Epoch 24/50\n",
      "15/15 [==============================] - 3s 184ms/step - loss: 0.1262 - binary_accuracy: 0.9596 - val_loss: 0.1933 - val_binary_accuracy: 0.9461\n",
      "Epoch 25/50\n",
      "15/15 [==============================] - 3s 184ms/step - loss: 0.1157 - binary_accuracy: 0.9645 - val_loss: 0.1981 - val_binary_accuracy: 0.9444\n",
      "Epoch 26/50\n",
      "15/15 [==============================] - 3s 184ms/step - loss: 0.1094 - binary_accuracy: 0.9674 - val_loss: 0.2085 - val_binary_accuracy: 0.9444\n",
      "Epoch 27/50\n",
      "15/15 [==============================] - 3s 184ms/step - loss: 0.1081 - binary_accuracy: 0.9669 - val_loss: 0.2047 - val_binary_accuracy: 0.9477\n",
      "Epoch 28/50\n",
      "15/15 [==============================] - 3s 183ms/step - loss: 0.1080 - binary_accuracy: 0.9662 - val_loss: 0.2042 - val_binary_accuracy: 0.9483\n",
      "Epoch 29/50\n",
      "15/15 [==============================] - 3s 185ms/step - loss: 0.1021 - binary_accuracy: 0.9685 - val_loss: 0.2001 - val_binary_accuracy: 0.9483\n",
      "Epoch 30/50\n",
      "15/15 [==============================] - 3s 185ms/step - loss: 0.1002 - binary_accuracy: 0.9696 - val_loss: 0.2008 - val_binary_accuracy: 0.9472\n",
      "Epoch 31/50\n",
      "15/15 [==============================] - 3s 186ms/step - loss: 0.0985 - binary_accuracy: 0.9695 - val_loss: 0.2001 - val_binary_accuracy: 0.9499\n",
      "Epoch 32/50\n",
      "15/15 [==============================] - 3s 186ms/step - loss: 0.0969 - binary_accuracy: 0.9701 - val_loss: 0.2028 - val_binary_accuracy: 0.9477\n",
      "Epoch 33/50\n",
      "15/15 [==============================] - 3s 186ms/step - loss: 0.0934 - binary_accuracy: 0.9710 - val_loss: 0.2054 - val_binary_accuracy: 0.9483\n",
      "Epoch 34/50\n",
      "15/15 [==============================] - 3s 187ms/step - loss: 0.0884 - binary_accuracy: 0.9731 - val_loss: 0.2145 - val_binary_accuracy: 0.9477\n",
      "Epoch 35/50\n",
      "15/15 [==============================] - 3s 189ms/step - loss: 0.0899 - binary_accuracy: 0.9714 - val_loss: 0.2088 - val_binary_accuracy: 0.9499\n",
      "Epoch 36/50\n",
      "15/15 [==============================] - 3s 200ms/step - loss: 0.0900 - binary_accuracy: 0.9713 - val_loss: 0.1897 - val_binary_accuracy: 0.9532\n",
      "Epoch 37/50\n",
      "15/15 [==============================] - 3s 187ms/step - loss: 0.0858 - binary_accuracy: 0.9734 - val_loss: 0.2016 - val_binary_accuracy: 0.9499\n",
      "Epoch 38/50\n",
      "15/15 [==============================] - 3s 191ms/step - loss: 0.0810 - binary_accuracy: 0.9754 - val_loss: 0.1948 - val_binary_accuracy: 0.9504\n",
      "Epoch 39/50\n"
     ]
    },
    {
     "name": "stdout",
     "output_type": "stream",
     "text": [
      "15/15 [==============================] - 3s 192ms/step - loss: 0.0808 - binary_accuracy: 0.9756 - val_loss: 0.2057 - val_binary_accuracy: 0.9515\n",
      "Epoch 40/50\n",
      "15/15 [==============================] - 3s 200ms/step - loss: 0.0781 - binary_accuracy: 0.9752 - val_loss: 0.2005 - val_binary_accuracy: 0.9542\n",
      "Epoch 41/50\n",
      "15/15 [==============================] - 3s 188ms/step - loss: 0.0738 - binary_accuracy: 0.9767 - val_loss: 0.2196 - val_binary_accuracy: 0.9510\n",
      "Epoch 42/50\n",
      "15/15 [==============================] - 3s 190ms/step - loss: 0.0746 - binary_accuracy: 0.9770 - val_loss: 0.2001 - val_binary_accuracy: 0.9559\n",
      "Epoch 43/50\n",
      "15/15 [==============================] - 3s 188ms/step - loss: 0.0755 - binary_accuracy: 0.9756 - val_loss: 0.1970 - val_binary_accuracy: 0.9521\n",
      "Epoch 44/50\n",
      "15/15 [==============================] - 3s 201ms/step - loss: 0.0704 - binary_accuracy: 0.9775 - val_loss: 0.2171 - val_binary_accuracy: 0.9483\n",
      "Epoch 45/50\n",
      "15/15 [==============================] - 3s 198ms/step - loss: 0.0708 - binary_accuracy: 0.9774 - val_loss: 0.2006 - val_binary_accuracy: 0.9542\n",
      "Epoch 46/50\n",
      "15/15 [==============================] - 3s 196ms/step - loss: 0.0664 - binary_accuracy: 0.9785 - val_loss: 0.2048 - val_binary_accuracy: 0.9510\n",
      "Epoch 47/50\n",
      "15/15 [==============================] - 3s 208ms/step - loss: 0.0701 - binary_accuracy: 0.9768 - val_loss: 0.2065 - val_binary_accuracy: 0.9537\n",
      "Epoch 48/50\n",
      "15/15 [==============================] - 3s 204ms/step - loss: 0.0673 - binary_accuracy: 0.9783 - val_loss: 0.2245 - val_binary_accuracy: 0.9483\n",
      "Epoch 49/50\n",
      "15/15 [==============================] - 3s 203ms/step - loss: 0.0682 - binary_accuracy: 0.9771 - val_loss: 0.1999 - val_binary_accuracy: 0.9515\n",
      "Epoch 50/50\n",
      "15/15 [==============================] - 3s 194ms/step - loss: 0.0629 - binary_accuracy: 0.9796 - val_loss: 0.1984 - val_binary_accuracy: 0.9559\n",
      "16/16 [==============================] - 1s 39ms/step - loss: 0.1578 - binary_accuracy: 0.9607\n",
      "[0.15777884423732758, 0.9607072472572327]\n",
      "Epoch 1/50\n",
      "INFO:tensorflow:batch_all_reduce: 14 all-reduces with algorithm = nccl, num_packs = 1\n",
      "INFO:tensorflow:batch_all_reduce: 14 all-reduces with algorithm = nccl, num_packs = 1\n",
      "15/15 [==============================] - 6s 409ms/step - loss: 0.2960 - binary_accuracy: 0.9106 - val_loss: 0.2078 - val_binary_accuracy: 0.9363\n",
      "Epoch 2/50\n",
      "15/15 [==============================] - 3s 187ms/step - loss: 0.1935 - binary_accuracy: 0.9412 - val_loss: 0.1989 - val_binary_accuracy: 0.9363\n",
      "Epoch 3/50\n",
      "15/15 [==============================] - 3s 186ms/step - loss: 0.1874 - binary_accuracy: 0.9412 - val_loss: 0.1968 - val_binary_accuracy: 0.9363\n",
      "Epoch 4/50\n",
      "15/15 [==============================] - 3s 195ms/step - loss: 0.1837 - binary_accuracy: 0.9414 - val_loss: 0.1978 - val_binary_accuracy: 0.9363\n",
      "Epoch 5/50\n",
      "15/15 [==============================] - 3s 185ms/step - loss: 0.1815 - binary_accuracy: 0.9412 - val_loss: 0.1970 - val_binary_accuracy: 0.9363\n",
      "Epoch 6/50\n",
      "15/15 [==============================] - 3s 203ms/step - loss: 0.1805 - binary_accuracy: 0.9414 - val_loss: 0.1936 - val_binary_accuracy: 0.9336\n",
      "Epoch 7/50\n",
      "15/15 [==============================] - 3s 202ms/step - loss: 0.1797 - binary_accuracy: 0.9410 - val_loss: 0.1904 - val_binary_accuracy: 0.9357\n",
      "Epoch 8/50\n",
      "15/15 [==============================] - 3s 192ms/step - loss: 0.1773 - binary_accuracy: 0.9410 - val_loss: 0.1923 - val_binary_accuracy: 0.9352\n",
      "Epoch 9/50\n",
      "15/15 [==============================] - 3s 209ms/step - loss: 0.1747 - binary_accuracy: 0.9417 - val_loss: 0.1926 - val_binary_accuracy: 0.9363\n",
      "Epoch 10/50\n",
      "15/15 [==============================] - 3s 205ms/step - loss: 0.1740 - binary_accuracy: 0.9423 - val_loss: 0.1935 - val_binary_accuracy: 0.9346\n",
      "Epoch 11/50\n",
      "15/15 [==============================] - 3s 205ms/step - loss: 0.1711 - binary_accuracy: 0.9418 - val_loss: 0.1928 - val_binary_accuracy: 0.9352\n",
      "Epoch 12/50\n",
      "15/15 [==============================] - 3s 201ms/step - loss: 0.1652 - binary_accuracy: 0.9442 - val_loss: 0.1953 - val_binary_accuracy: 0.9281\n",
      "Epoch 13/50\n",
      "15/15 [==============================] - 3s 205ms/step - loss: 0.1635 - binary_accuracy: 0.9441 - val_loss: 0.1947 - val_binary_accuracy: 0.9346\n",
      "Epoch 14/50\n",
      "15/15 [==============================] - 3s 204ms/step - loss: 0.1625 - binary_accuracy: 0.9454 - val_loss: 0.1974 - val_binary_accuracy: 0.9363\n",
      "Epoch 15/50\n",
      "15/15 [==============================] - 3s 192ms/step - loss: 0.1575 - binary_accuracy: 0.9472 - val_loss: 0.1964 - val_binary_accuracy: 0.9352\n",
      "Epoch 16/50\n",
      "15/15 [==============================] - 3s 207ms/step - loss: 0.1544 - binary_accuracy: 0.9477 - val_loss: 0.1966 - val_binary_accuracy: 0.9401\n",
      "Epoch 17/50\n",
      "15/15 [==============================] - 3s 202ms/step - loss: 0.1519 - binary_accuracy: 0.9484 - val_loss: 0.1945 - val_binary_accuracy: 0.9390\n",
      "Epoch 18/50\n",
      "15/15 [==============================] - 3s 202ms/step - loss: 0.1474 - binary_accuracy: 0.9499 - val_loss: 0.2025 - val_binary_accuracy: 0.9406\n",
      "Epoch 19/50\n",
      "15/15 [==============================] - 3s 209ms/step - loss: 0.1500 - binary_accuracy: 0.9484 - val_loss: 0.2030 - val_binary_accuracy: 0.9363\n",
      "Epoch 20/50\n",
      "15/15 [==============================] - 3s 203ms/step - loss: 0.1445 - binary_accuracy: 0.9498 - val_loss: 0.2092 - val_binary_accuracy: 0.9374\n",
      "Epoch 21/50\n",
      "15/15 [==============================] - 3s 205ms/step - loss: 0.1396 - binary_accuracy: 0.9511 - val_loss: 0.2105 - val_binary_accuracy: 0.9417\n",
      "Epoch 22/50\n",
      "15/15 [==============================] - 3s 202ms/step - loss: 0.1343 - binary_accuracy: 0.9551 - val_loss: 0.2045 - val_binary_accuracy: 0.9401\n",
      "Epoch 23/50\n",
      "15/15 [==============================] - 3s 205ms/step - loss: 0.1314 - binary_accuracy: 0.9561 - val_loss: 0.2108 - val_binary_accuracy: 0.9390\n",
      "Epoch 24/50\n",
      "15/15 [==============================] - 3s 202ms/step - loss: 0.1274 - binary_accuracy: 0.9584 - val_loss: 0.2130 - val_binary_accuracy: 0.9439\n",
      "Epoch 25/50\n",
      "15/15 [==============================] - 3s 206ms/step - loss: 0.1247 - binary_accuracy: 0.9602 - val_loss: 0.2109 - val_binary_accuracy: 0.9434\n",
      "Epoch 26/50\n",
      "15/15 [==============================] - 3s 203ms/step - loss: 0.1213 - binary_accuracy: 0.9609 - val_loss: 0.2264 - val_binary_accuracy: 0.9363\n",
      "Epoch 27/50\n",
      "15/15 [==============================] - 3s 196ms/step - loss: 0.1236 - binary_accuracy: 0.9594 - val_loss: 0.2284 - val_binary_accuracy: 0.9385\n",
      "Epoch 28/50\n",
      "15/15 [==============================] - 3s 203ms/step - loss: 0.1181 - binary_accuracy: 0.9622 - val_loss: 0.2178 - val_binary_accuracy: 0.9412\n",
      "Epoch 29/50\n",
      "15/15 [==============================] - 3s 198ms/step - loss: 0.1210 - binary_accuracy: 0.9615 - val_loss: 0.2156 - val_binary_accuracy: 0.9417\n",
      "Epoch 30/50\n",
      "15/15 [==============================] - 3s 207ms/step - loss: 0.1122 - binary_accuracy: 0.9659 - val_loss: 0.2109 - val_binary_accuracy: 0.9461\n",
      "Epoch 31/50\n",
      "15/15 [==============================] - 3s 201ms/step - loss: 0.1074 - binary_accuracy: 0.9684 - val_loss: 0.1977 - val_binary_accuracy: 0.9515\n",
      "Epoch 32/50\n",
      "15/15 [==============================] - 3s 208ms/step - loss: 0.1189 - binary_accuracy: 0.9597 - val_loss: 0.2300 - val_binary_accuracy: 0.9352\n",
      "Epoch 33/50\n",
      "15/15 [==============================] - 3s 205ms/step - loss: 0.1231 - binary_accuracy: 0.9577 - val_loss: 0.2398 - val_binary_accuracy: 0.9330\n",
      "Epoch 34/50\n",
      "15/15 [==============================] - 3s 203ms/step - loss: 0.1184 - binary_accuracy: 0.9602 - val_loss: 0.2319 - val_binary_accuracy: 0.9406\n",
      "Epoch 35/50\n",
      "15/15 [==============================] - 3s 200ms/step - loss: 0.1086 - binary_accuracy: 0.9672 - val_loss: 0.2321 - val_binary_accuracy: 0.9368\n",
      "Epoch 36/50\n",
      "15/15 [==============================] - 3s 210ms/step - loss: 0.1131 - binary_accuracy: 0.9639 - val_loss: 0.2289 - val_binary_accuracy: 0.9390\n",
      "Epoch 37/50\n",
      "15/15 [==============================] - 3s 203ms/step - loss: 0.1033 - binary_accuracy: 0.9688 - val_loss: 0.2338 - val_binary_accuracy: 0.9423\n",
      "Epoch 38/50\n",
      "15/15 [==============================] - 3s 202ms/step - loss: 0.1038 - binary_accuracy: 0.9680 - val_loss: 0.2250 - val_binary_accuracy: 0.9455\n",
      "Epoch 39/50\n"
     ]
    },
    {
     "name": "stdout",
     "output_type": "stream",
     "text": [
      "15/15 [==============================] - 3s 206ms/step - loss: 0.0998 - binary_accuracy: 0.9703 - val_loss: 0.2149 - val_binary_accuracy: 0.9483\n",
      "Epoch 40/50\n",
      "15/15 [==============================] - 3s 205ms/step - loss: 0.0954 - binary_accuracy: 0.9709 - val_loss: 0.2183 - val_binary_accuracy: 0.9472\n",
      "Epoch 41/50\n",
      "15/15 [==============================] - 3s 201ms/step - loss: 0.0928 - binary_accuracy: 0.9712 - val_loss: 0.2161 - val_binary_accuracy: 0.9483\n",
      "Epoch 42/50\n",
      "15/15 [==============================] - 3s 205ms/step - loss: 0.0958 - binary_accuracy: 0.9702 - val_loss: 0.2250 - val_binary_accuracy: 0.9466\n",
      "Epoch 43/50\n",
      "15/15 [==============================] - 3s 202ms/step - loss: 0.0915 - binary_accuracy: 0.9728 - val_loss: 0.2166 - val_binary_accuracy: 0.9493\n",
      "Epoch 44/50\n",
      "15/15 [==============================] - 3s 208ms/step - loss: 0.0882 - binary_accuracy: 0.9724 - val_loss: 0.2139 - val_binary_accuracy: 0.9504\n",
      "Epoch 45/50\n",
      "15/15 [==============================] - 3s 200ms/step - loss: 0.0857 - binary_accuracy: 0.9739 - val_loss: 0.2189 - val_binary_accuracy: 0.9466\n",
      "Epoch 46/50\n",
      "15/15 [==============================] - 3s 204ms/step - loss: 0.0827 - binary_accuracy: 0.9743 - val_loss: 0.2224 - val_binary_accuracy: 0.9483\n",
      "Epoch 47/50\n",
      "15/15 [==============================] - 3s 206ms/step - loss: 0.0783 - binary_accuracy: 0.9762 - val_loss: 0.2080 - val_binary_accuracy: 0.9526\n",
      "Epoch 48/50\n",
      "15/15 [==============================] - 3s 202ms/step - loss: 0.0782 - binary_accuracy: 0.9746 - val_loss: 0.2215 - val_binary_accuracy: 0.9466\n",
      "Epoch 49/50\n",
      "15/15 [==============================] - 3s 202ms/step - loss: 0.0764 - binary_accuracy: 0.9756 - val_loss: 0.2025 - val_binary_accuracy: 0.9450\n",
      "Epoch 50/50\n",
      "15/15 [==============================] - 3s 205ms/step - loss: 0.0736 - binary_accuracy: 0.9764 - val_loss: 0.2332 - val_binary_accuracy: 0.9488\n",
      "16/16 [==============================] - 1s 43ms/step - loss: 0.2259 - binary_accuracy: 0.9491\n",
      "[0.22592805325984955, 0.9491377472877502]\n",
      "Epoch 1/50\n",
      "INFO:tensorflow:batch_all_reduce: 14 all-reduces with algorithm = nccl, num_packs = 1\n",
      "INFO:tensorflow:batch_all_reduce: 14 all-reduces with algorithm = nccl, num_packs = 1\n",
      "15/15 [==============================] - 6s 416ms/step - loss: 0.2920 - binary_accuracy: 0.9118 - val_loss: 0.2107 - val_binary_accuracy: 0.9363\n",
      "Epoch 2/50\n",
      "15/15 [==============================] - 3s 188ms/step - loss: 0.1965 - binary_accuracy: 0.9415 - val_loss: 0.1971 - val_binary_accuracy: 0.9363\n",
      "Epoch 3/50\n",
      "15/15 [==============================] - 3s 194ms/step - loss: 0.1903 - binary_accuracy: 0.9415 - val_loss: 0.1988 - val_binary_accuracy: 0.9363\n",
      "Epoch 4/50\n",
      "15/15 [==============================] - 3s 193ms/step - loss: 0.1866 - binary_accuracy: 0.9412 - val_loss: 0.1988 - val_binary_accuracy: 0.9363\n",
      "Epoch 5/50\n",
      "15/15 [==============================] - 3s 205ms/step - loss: 0.1843 - binary_accuracy: 0.9402 - val_loss: 0.1969 - val_binary_accuracy: 0.9363\n",
      "Epoch 6/50\n",
      "15/15 [==============================] - 3s 208ms/step - loss: 0.1810 - binary_accuracy: 0.9414 - val_loss: 0.1922 - val_binary_accuracy: 0.9346\n",
      "Epoch 7/50\n",
      "15/15 [==============================] - 3s 208ms/step - loss: 0.1793 - binary_accuracy: 0.9414 - val_loss: 0.1921 - val_binary_accuracy: 0.9346\n",
      "Epoch 8/50\n",
      "15/15 [==============================] - 3s 203ms/step - loss: 0.1803 - binary_accuracy: 0.9404 - val_loss: 0.1928 - val_binary_accuracy: 0.9346\n",
      "Epoch 9/50\n",
      "15/15 [==============================] - 3s 205ms/step - loss: 0.1816 - binary_accuracy: 0.9411 - val_loss: 0.1936 - val_binary_accuracy: 0.9346\n",
      "Epoch 10/50\n",
      "15/15 [==============================] - 3s 202ms/step - loss: 0.1813 - binary_accuracy: 0.9401 - val_loss: 0.1918 - val_binary_accuracy: 0.9346\n",
      "Epoch 11/50\n",
      "15/15 [==============================] - 3s 204ms/step - loss: 0.1781 - binary_accuracy: 0.9417 - val_loss: 0.1934 - val_binary_accuracy: 0.9346\n",
      "Epoch 12/50\n",
      "15/15 [==============================] - 3s 206ms/step - loss: 0.1759 - binary_accuracy: 0.9420 - val_loss: 0.1906 - val_binary_accuracy: 0.9346\n",
      "Epoch 13/50\n",
      "15/15 [==============================] - 3s 204ms/step - loss: 0.1749 - binary_accuracy: 0.9420 - val_loss: 0.1908 - val_binary_accuracy: 0.9346\n",
      "Epoch 14/50\n",
      "15/15 [==============================] - 3s 203ms/step - loss: 0.1736 - binary_accuracy: 0.9426 - val_loss: 0.1972 - val_binary_accuracy: 0.9352\n",
      "Epoch 15/50\n",
      "15/15 [==============================] - 3s 210ms/step - loss: 0.1734 - binary_accuracy: 0.9414 - val_loss: 0.1916 - val_binary_accuracy: 0.9336\n",
      "Epoch 16/50\n",
      "15/15 [==============================] - 3s 201ms/step - loss: 0.1716 - binary_accuracy: 0.9430 - val_loss: 0.1913 - val_binary_accuracy: 0.9363\n",
      "Epoch 17/50\n",
      "15/15 [==============================] - 3s 202ms/step - loss: 0.1701 - binary_accuracy: 0.9435 - val_loss: 0.1902 - val_binary_accuracy: 0.9374\n",
      "Epoch 18/50\n",
      "15/15 [==============================] - 3s 205ms/step - loss: 0.1668 - binary_accuracy: 0.9445 - val_loss: 0.1960 - val_binary_accuracy: 0.9363\n",
      "Epoch 19/50\n",
      "15/15 [==============================] - 3s 202ms/step - loss: 0.1684 - binary_accuracy: 0.9434 - val_loss: 0.1913 - val_binary_accuracy: 0.9276\n",
      "Epoch 20/50\n",
      "15/15 [==============================] - 3s 205ms/step - loss: 0.1680 - binary_accuracy: 0.9439 - val_loss: 0.1898 - val_binary_accuracy: 0.9379\n",
      "Epoch 21/50\n",
      "15/15 [==============================] - 3s 205ms/step - loss: 0.1645 - binary_accuracy: 0.9449 - val_loss: 0.1879 - val_binary_accuracy: 0.9385\n",
      "Epoch 22/50\n",
      "15/15 [==============================] - 3s 204ms/step - loss: 0.1611 - binary_accuracy: 0.9452 - val_loss: 0.1922 - val_binary_accuracy: 0.9368\n",
      "Epoch 23/50\n",
      "15/15 [==============================] - 3s 199ms/step - loss: 0.1579 - binary_accuracy: 0.9466 - val_loss: 0.1882 - val_binary_accuracy: 0.9325\n",
      "Epoch 24/50\n",
      "15/15 [==============================] - 3s 207ms/step - loss: 0.1583 - binary_accuracy: 0.9469 - val_loss: 0.1894 - val_binary_accuracy: 0.9406\n",
      "Epoch 25/50\n",
      "15/15 [==============================] - 3s 202ms/step - loss: 0.1549 - binary_accuracy: 0.9474 - val_loss: 0.1871 - val_binary_accuracy: 0.9417\n",
      "Epoch 26/50\n",
      "15/15 [==============================] - 3s 205ms/step - loss: 0.1496 - binary_accuracy: 0.9480 - val_loss: 0.1988 - val_binary_accuracy: 0.9308\n",
      "Epoch 27/50\n",
      "15/15 [==============================] - 3s 202ms/step - loss: 0.1474 - binary_accuracy: 0.9500 - val_loss: 0.1938 - val_binary_accuracy: 0.9395\n",
      "Epoch 28/50\n",
      "15/15 [==============================] - 3s 218ms/step - loss: 0.1428 - binary_accuracy: 0.9527 - val_loss: 0.2150 - val_binary_accuracy: 0.9368\n",
      "Epoch 29/50\n",
      "15/15 [==============================] - 3s 209ms/step - loss: 0.1460 - binary_accuracy: 0.9508 - val_loss: 0.1942 - val_binary_accuracy: 0.9385\n",
      "Epoch 30/50\n",
      "15/15 [==============================] - 3s 206ms/step - loss: 0.1349 - binary_accuracy: 0.9568 - val_loss: 0.2074 - val_binary_accuracy: 0.9232\n",
      "Epoch 31/50\n",
      "15/15 [==============================] - 3s 207ms/step - loss: 0.1404 - binary_accuracy: 0.9533 - val_loss: 0.2126 - val_binary_accuracy: 0.9330\n",
      "Epoch 32/50\n",
      "15/15 [==============================] - 3s 214ms/step - loss: 0.1423 - binary_accuracy: 0.9508 - val_loss: 0.2155 - val_binary_accuracy: 0.9352\n",
      "Epoch 33/50\n",
      "15/15 [==============================] - 3s 203ms/step - loss: 0.1380 - binary_accuracy: 0.9529 - val_loss: 0.2124 - val_binary_accuracy: 0.9363\n",
      "Epoch 34/50\n",
      "15/15 [==============================] - 3s 205ms/step - loss: 0.1339 - binary_accuracy: 0.9547 - val_loss: 0.2154 - val_binary_accuracy: 0.9341\n",
      "Epoch 35/50\n",
      "15/15 [==============================] - 3s 205ms/step - loss: 0.1334 - binary_accuracy: 0.9551 - val_loss: 0.2287 - val_binary_accuracy: 0.9374\n",
      "Epoch 36/50\n",
      "15/15 [==============================] - 3s 202ms/step - loss: 0.1311 - binary_accuracy: 0.9569 - val_loss: 0.2203 - val_binary_accuracy: 0.9336\n",
      "Epoch 37/50\n",
      "15/15 [==============================] - 3s 204ms/step - loss: 0.1269 - binary_accuracy: 0.9568 - val_loss: 0.2249 - val_binary_accuracy: 0.9330\n",
      "Epoch 38/50\n",
      "15/15 [==============================] - 3s 206ms/step - loss: 0.1245 - binary_accuracy: 0.9586 - val_loss: 0.2279 - val_binary_accuracy: 0.9314\n",
      "Epoch 39/50\n"
     ]
    },
    {
     "name": "stdout",
     "output_type": "stream",
     "text": [
      "15/15 [==============================] - 3s 202ms/step - loss: 0.1313 - binary_accuracy: 0.9546 - val_loss: 0.2248 - val_binary_accuracy: 0.9336\n",
      "Epoch 40/50\n",
      "15/15 [==============================] - 3s 204ms/step - loss: 0.1260 - binary_accuracy: 0.9575 - val_loss: 0.2289 - val_binary_accuracy: 0.9319\n",
      "Epoch 41/50\n",
      "15/15 [==============================] - 3s 205ms/step - loss: 0.1206 - binary_accuracy: 0.9597 - val_loss: 0.2389 - val_binary_accuracy: 0.9341\n",
      "Epoch 42/50\n",
      "15/15 [==============================] - 3s 206ms/step - loss: 0.1169 - binary_accuracy: 0.9619 - val_loss: 0.2395 - val_binary_accuracy: 0.9303\n",
      "Epoch 43/50\n",
      "15/15 [==============================] - 3s 207ms/step - loss: 0.1123 - binary_accuracy: 0.9652 - val_loss: 0.2203 - val_binary_accuracy: 0.9406\n",
      "Epoch 44/50\n",
      "15/15 [==============================] - 3s 208ms/step - loss: 0.1113 - binary_accuracy: 0.9659 - val_loss: 0.2263 - val_binary_accuracy: 0.9352\n",
      "Epoch 45/50\n",
      "15/15 [==============================] - 3s 207ms/step - loss: 0.1058 - binary_accuracy: 0.9676 - val_loss: 0.2290 - val_binary_accuracy: 0.9417\n",
      "Epoch 46/50\n",
      "15/15 [==============================] - 3s 205ms/step - loss: 0.1015 - binary_accuracy: 0.9682 - val_loss: 0.2387 - val_binary_accuracy: 0.9390\n",
      "Epoch 47/50\n",
      "15/15 [==============================] - 3s 211ms/step - loss: 0.0963 - binary_accuracy: 0.9708 - val_loss: 0.2215 - val_binary_accuracy: 0.9417\n",
      "Epoch 48/50\n",
      "15/15 [==============================] - 3s 209ms/step - loss: 0.0898 - binary_accuracy: 0.9731 - val_loss: 0.2246 - val_binary_accuracy: 0.9395\n",
      "Epoch 49/50\n",
      "15/15 [==============================] - 3s 209ms/step - loss: 0.0917 - binary_accuracy: 0.9722 - val_loss: 0.2229 - val_binary_accuracy: 0.9434\n",
      "Epoch 50/50\n",
      "15/15 [==============================] - 3s 206ms/step - loss: 0.0892 - binary_accuracy: 0.9735 - val_loss: 0.2141 - val_binary_accuracy: 0.9461\n",
      "16/16 [==============================] - 1s 44ms/step - loss: 0.1801 - binary_accuracy: 0.9528\n",
      "[0.18008758127689362, 0.9528487324714661]\n",
      "Epoch 1/50\n",
      "INFO:tensorflow:batch_all_reduce: 14 all-reduces with algorithm = nccl, num_packs = 1\n",
      "INFO:tensorflow:batch_all_reduce: 14 all-reduces with algorithm = nccl, num_packs = 1\n",
      "15/15 [==============================] - 6s 418ms/step - loss: 0.2973 - binary_accuracy: 0.9069 - val_loss: 0.2049 - val_binary_accuracy: 0.9363\n",
      "Epoch 2/50\n",
      "15/15 [==============================] - 3s 208ms/step - loss: 0.1958 - binary_accuracy: 0.9395 - val_loss: 0.1992 - val_binary_accuracy: 0.9363\n",
      "Epoch 3/50\n",
      "15/15 [==============================] - 3s 207ms/step - loss: 0.1915 - binary_accuracy: 0.9395 - val_loss: 0.1942 - val_binary_accuracy: 0.9363\n",
      "Epoch 4/50\n",
      "15/15 [==============================] - 3s 203ms/step - loss: 0.1871 - binary_accuracy: 0.9395 - val_loss: 0.1932 - val_binary_accuracy: 0.9363\n",
      "Epoch 5/50\n",
      "15/15 [==============================] - 3s 206ms/step - loss: 0.1853 - binary_accuracy: 0.9395 - val_loss: 0.1952 - val_binary_accuracy: 0.9363\n",
      "Epoch 6/50\n",
      "15/15 [==============================] - 3s 200ms/step - loss: 0.1841 - binary_accuracy: 0.9389 - val_loss: 0.1925 - val_binary_accuracy: 0.9363\n",
      "Epoch 7/50\n",
      "15/15 [==============================] - 3s 208ms/step - loss: 0.1825 - binary_accuracy: 0.9390 - val_loss: 0.1922 - val_binary_accuracy: 0.9368\n",
      "Epoch 8/50\n",
      "15/15 [==============================] - 3s 202ms/step - loss: 0.1792 - binary_accuracy: 0.9398 - val_loss: 0.1890 - val_binary_accuracy: 0.9374\n",
      "Epoch 9/50\n",
      "15/15 [==============================] - 3s 208ms/step - loss: 0.1766 - binary_accuracy: 0.9404 - val_loss: 0.1930 - val_binary_accuracy: 0.9281\n",
      "Epoch 10/50\n",
      "15/15 [==============================] - 3s 200ms/step - loss: 0.1761 - binary_accuracy: 0.9410 - val_loss: 0.1940 - val_binary_accuracy: 0.9363\n",
      "Epoch 11/50\n",
      "15/15 [==============================] - 3s 202ms/step - loss: 0.1733 - binary_accuracy: 0.9410 - val_loss: 0.1923 - val_binary_accuracy: 0.9379\n",
      "Epoch 12/50\n",
      "15/15 [==============================] - 3s 210ms/step - loss: 0.1705 - binary_accuracy: 0.9420 - val_loss: 0.1906 - val_binary_accuracy: 0.9401\n",
      "Epoch 13/50\n",
      "15/15 [==============================] - 3s 202ms/step - loss: 0.1701 - binary_accuracy: 0.9431 - val_loss: 0.1957 - val_binary_accuracy: 0.9401\n",
      "Epoch 14/50\n",
      "15/15 [==============================] - 3s 203ms/step - loss: 0.1645 - binary_accuracy: 0.9447 - val_loss: 0.1984 - val_binary_accuracy: 0.9319\n",
      "Epoch 15/50\n",
      "15/15 [==============================] - 3s 203ms/step - loss: 0.1612 - binary_accuracy: 0.9451 - val_loss: 0.2045 - val_binary_accuracy: 0.9374\n",
      "Epoch 16/50\n",
      "15/15 [==============================] - 3s 207ms/step - loss: 0.1590 - binary_accuracy: 0.9464 - val_loss: 0.1970 - val_binary_accuracy: 0.9374\n",
      "Epoch 17/50\n",
      "15/15 [==============================] - 3s 206ms/step - loss: 0.1547 - binary_accuracy: 0.9474 - val_loss: 0.1985 - val_binary_accuracy: 0.9357\n",
      "Epoch 18/50\n",
      "15/15 [==============================] - 3s 205ms/step - loss: 0.1512 - binary_accuracy: 0.9487 - val_loss: 0.2006 - val_binary_accuracy: 0.9325\n",
      "Epoch 19/50\n",
      "15/15 [==============================] - 3s 202ms/step - loss: 0.1471 - binary_accuracy: 0.9515 - val_loss: 0.2050 - val_binary_accuracy: 0.9406\n",
      "Epoch 20/50\n",
      "15/15 [==============================] - 3s 207ms/step - loss: 0.1416 - binary_accuracy: 0.9558 - val_loss: 0.1910 - val_binary_accuracy: 0.9434\n",
      "Epoch 21/50\n",
      "15/15 [==============================] - 3s 207ms/step - loss: 0.1320 - binary_accuracy: 0.9600 - val_loss: 0.1972 - val_binary_accuracy: 0.9428\n",
      "Epoch 22/50\n",
      "15/15 [==============================] - 3s 228ms/step - loss: 0.1318 - binary_accuracy: 0.9605 - val_loss: 0.1973 - val_binary_accuracy: 0.9455\n",
      "Epoch 23/50\n",
      "15/15 [==============================] - 3s 214ms/step - loss: 0.1243 - binary_accuracy: 0.9628 - val_loss: 0.1945 - val_binary_accuracy: 0.9461\n",
      "Epoch 24/50\n",
      "15/15 [==============================] - 3s 202ms/step - loss: 0.1208 - binary_accuracy: 0.9637 - val_loss: 0.1964 - val_binary_accuracy: 0.9483\n",
      "Epoch 25/50\n",
      "15/15 [==============================] - 3s 206ms/step - loss: 0.1267 - binary_accuracy: 0.9598 - val_loss: 0.1929 - val_binary_accuracy: 0.9428\n",
      "Epoch 26/50\n",
      "15/15 [==============================] - 3s 206ms/step - loss: 0.1197 - binary_accuracy: 0.9642 - val_loss: 0.1982 - val_binary_accuracy: 0.9455\n",
      "Epoch 27/50\n",
      "15/15 [==============================] - 3s 204ms/step - loss: 0.1135 - binary_accuracy: 0.9652 - val_loss: 0.1997 - val_binary_accuracy: 0.9450\n",
      "Epoch 28/50\n",
      "15/15 [==============================] - 3s 207ms/step - loss: 0.1100 - binary_accuracy: 0.9666 - val_loss: 0.2115 - val_binary_accuracy: 0.9450\n",
      "Epoch 29/50\n",
      "15/15 [==============================] - 3s 214ms/step - loss: 0.1099 - binary_accuracy: 0.9661 - val_loss: 0.2054 - val_binary_accuracy: 0.9395\n",
      "Epoch 30/50\n",
      "15/15 [==============================] - 3s 209ms/step - loss: 0.1074 - binary_accuracy: 0.9669 - val_loss: 0.2098 - val_binary_accuracy: 0.9434\n",
      "Epoch 31/50\n",
      "15/15 [==============================] - 3s 213ms/step - loss: 0.1065 - binary_accuracy: 0.9676 - val_loss: 0.2108 - val_binary_accuracy: 0.9444\n",
      "Epoch 32/50\n",
      "15/15 [==============================] - 3s 208ms/step - loss: 0.1071 - binary_accuracy: 0.9675 - val_loss: 0.2028 - val_binary_accuracy: 0.9444\n",
      "Epoch 33/50\n",
      "15/15 [==============================] - 3s 203ms/step - loss: 0.1016 - binary_accuracy: 0.9688 - val_loss: 0.1958 - val_binary_accuracy: 0.9510\n",
      "Epoch 34/50\n",
      "15/15 [==============================] - 3s 209ms/step - loss: 0.0957 - binary_accuracy: 0.9707 - val_loss: 0.2016 - val_binary_accuracy: 0.9493\n",
      "Epoch 35/50\n",
      "15/15 [==============================] - 3s 205ms/step - loss: 0.0938 - binary_accuracy: 0.9703 - val_loss: 0.2082 - val_binary_accuracy: 0.9483\n",
      "Epoch 36/50\n",
      "15/15 [==============================] - 3s 206ms/step - loss: 0.0935 - binary_accuracy: 0.9721 - val_loss: 0.2032 - val_binary_accuracy: 0.9483\n",
      "Epoch 37/50\n",
      "15/15 [==============================] - 3s 210ms/step - loss: 0.0959 - binary_accuracy: 0.9716 - val_loss: 0.2205 - val_binary_accuracy: 0.9455\n",
      "Epoch 38/50\n",
      "15/15 [==============================] - 3s 210ms/step - loss: 0.0923 - binary_accuracy: 0.9714 - val_loss: 0.2048 - val_binary_accuracy: 0.9439\n",
      "Epoch 39/50\n"
     ]
    },
    {
     "name": "stdout",
     "output_type": "stream",
     "text": [
      "15/15 [==============================] - 3s 206ms/step - loss: 0.0900 - binary_accuracy: 0.9725 - val_loss: 0.1976 - val_binary_accuracy: 0.9477\n",
      "Epoch 40/50\n",
      "15/15 [==============================] - 3s 210ms/step - loss: 0.0838 - binary_accuracy: 0.9751 - val_loss: 0.1954 - val_binary_accuracy: 0.9499\n",
      "Epoch 41/50\n",
      "15/15 [==============================] - 3s 208ms/step - loss: 0.0828 - binary_accuracy: 0.9753 - val_loss: 0.1988 - val_binary_accuracy: 0.9521\n",
      "Epoch 42/50\n",
      "15/15 [==============================] - 3s 204ms/step - loss: 0.0811 - binary_accuracy: 0.9747 - val_loss: 0.1919 - val_binary_accuracy: 0.9510\n",
      "Epoch 43/50\n",
      "15/15 [==============================] - 3s 206ms/step - loss: 0.0902 - binary_accuracy: 0.9713 - val_loss: 0.2315 - val_binary_accuracy: 0.9483\n",
      "Epoch 44/50\n",
      "15/15 [==============================] - 3s 210ms/step - loss: 0.0911 - binary_accuracy: 0.9725 - val_loss: 0.1936 - val_binary_accuracy: 0.9548\n",
      "Epoch 45/50\n",
      "15/15 [==============================] - 3s 213ms/step - loss: 0.0835 - binary_accuracy: 0.9739 - val_loss: 0.1939 - val_binary_accuracy: 0.9488\n",
      "Epoch 46/50\n",
      "15/15 [==============================] - 3s 212ms/step - loss: 0.0788 - binary_accuracy: 0.9755 - val_loss: 0.1986 - val_binary_accuracy: 0.9521\n",
      "Epoch 47/50\n",
      "15/15 [==============================] - 3s 211ms/step - loss: 0.0771 - binary_accuracy: 0.9767 - val_loss: 0.1998 - val_binary_accuracy: 0.9515\n",
      "Epoch 48/50\n",
      "15/15 [==============================] - 3s 224ms/step - loss: 0.0759 - binary_accuracy: 0.9745 - val_loss: 0.2032 - val_binary_accuracy: 0.9537\n",
      "Epoch 49/50\n",
      "15/15 [==============================] - 3s 207ms/step - loss: 0.0742 - binary_accuracy: 0.9769 - val_loss: 0.2020 - val_binary_accuracy: 0.9553\n",
      "Epoch 50/50\n",
      "15/15 [==============================] - 3s 212ms/step - loss: 0.0714 - binary_accuracy: 0.9785 - val_loss: 0.1970 - val_binary_accuracy: 0.9521\n",
      "16/16 [==============================] - 1s 40ms/step - loss: 0.1671 - binary_accuracy: 0.9581\n",
      "[0.16708289086818695, 0.958087682723999]\n",
      "Epoch 1/50\n",
      "INFO:tensorflow:batch_all_reduce: 14 all-reduces with algorithm = nccl, num_packs = 1\n",
      "INFO:tensorflow:batch_all_reduce: 14 all-reduces with algorithm = nccl, num_packs = 1\n",
      "15/15 [==============================] - 6s 426ms/step - loss: 0.2985 - binary_accuracy: 0.9034 - val_loss: 0.1939 - val_binary_accuracy: 0.9483\n",
      "Epoch 2/50\n",
      "15/15 [==============================] - 3s 204ms/step - loss: 0.1974 - binary_accuracy: 0.9397 - val_loss: 0.1838 - val_binary_accuracy: 0.9483\n",
      "Epoch 3/50\n",
      "15/15 [==============================] - 3s 194ms/step - loss: 0.1944 - binary_accuracy: 0.9397 - val_loss: 0.1789 - val_binary_accuracy: 0.9483\n",
      "Epoch 4/50\n",
      "15/15 [==============================] - 3s 208ms/step - loss: 0.1879 - binary_accuracy: 0.9397 - val_loss: 0.1713 - val_binary_accuracy: 0.9483\n",
      "Epoch 5/50\n",
      "15/15 [==============================] - 3s 209ms/step - loss: 0.1850 - binary_accuracy: 0.9397 - val_loss: 0.1678 - val_binary_accuracy: 0.9483\n",
      "Epoch 6/50\n",
      "15/15 [==============================] - 3s 201ms/step - loss: 0.1839 - binary_accuracy: 0.9395 - val_loss: 0.1701 - val_binary_accuracy: 0.9477\n",
      "Epoch 7/50\n",
      "15/15 [==============================] - 3s 208ms/step - loss: 0.1835 - binary_accuracy: 0.9398 - val_loss: 0.1678 - val_binary_accuracy: 0.9483\n",
      "Epoch 8/50\n",
      "15/15 [==============================] - 3s 202ms/step - loss: 0.1820 - binary_accuracy: 0.9400 - val_loss: 0.1686 - val_binary_accuracy: 0.9477\n",
      "Epoch 9/50\n",
      "15/15 [==============================] - 3s 208ms/step - loss: 0.1795 - binary_accuracy: 0.9398 - val_loss: 0.1709 - val_binary_accuracy: 0.9472\n",
      "Epoch 10/50\n",
      "15/15 [==============================] - 3s 200ms/step - loss: 0.1773 - binary_accuracy: 0.9401 - val_loss: 0.1672 - val_binary_accuracy: 0.9466\n",
      "Epoch 11/50\n",
      "15/15 [==============================] - 3s 209ms/step - loss: 0.1748 - binary_accuracy: 0.9414 - val_loss: 0.1666 - val_binary_accuracy: 0.9466\n",
      "Epoch 12/50\n",
      "15/15 [==============================] - 3s 203ms/step - loss: 0.1745 - binary_accuracy: 0.9415 - val_loss: 0.1723 - val_binary_accuracy: 0.9439\n",
      "Epoch 13/50\n",
      "15/15 [==============================] - 3s 206ms/step - loss: 0.1711 - binary_accuracy: 0.9424 - val_loss: 0.1741 - val_binary_accuracy: 0.9477\n",
      "Epoch 14/50\n",
      "15/15 [==============================] - 3s 203ms/step - loss: 0.1686 - binary_accuracy: 0.9421 - val_loss: 0.1745 - val_binary_accuracy: 0.9423\n",
      "Epoch 15/50\n",
      "15/15 [==============================] - 3s 207ms/step - loss: 0.1679 - binary_accuracy: 0.9432 - val_loss: 0.1708 - val_binary_accuracy: 0.9390\n",
      "Epoch 16/50\n",
      "15/15 [==============================] - 3s 201ms/step - loss: 0.1735 - binary_accuracy: 0.9417 - val_loss: 0.1728 - val_binary_accuracy: 0.9423\n",
      "Epoch 17/50\n",
      "15/15 [==============================] - 3s 205ms/step - loss: 0.1707 - binary_accuracy: 0.9408 - val_loss: 0.1754 - val_binary_accuracy: 0.9434\n",
      "Epoch 18/50\n",
      "15/15 [==============================] - 3s 207ms/step - loss: 0.1675 - binary_accuracy: 0.9426 - val_loss: 0.1738 - val_binary_accuracy: 0.9428\n",
      "Epoch 19/50\n",
      "15/15 [==============================] - 3s 204ms/step - loss: 0.1627 - binary_accuracy: 0.9430 - val_loss: 0.1746 - val_binary_accuracy: 0.9450\n",
      "Epoch 20/50\n",
      "15/15 [==============================] - 3s 205ms/step - loss: 0.1585 - binary_accuracy: 0.9457 - val_loss: 0.1787 - val_binary_accuracy: 0.9412\n",
      "Epoch 21/50\n",
      "15/15 [==============================] - 3s 207ms/step - loss: 0.1541 - binary_accuracy: 0.9475 - val_loss: 0.1708 - val_binary_accuracy: 0.9450\n",
      "Epoch 22/50\n",
      "15/15 [==============================] - 3s 210ms/step - loss: 0.1543 - binary_accuracy: 0.9476 - val_loss: 0.1786 - val_binary_accuracy: 0.9434\n",
      "Epoch 23/50\n",
      "15/15 [==============================] - 3s 208ms/step - loss: 0.1473 - binary_accuracy: 0.9502 - val_loss: 0.1772 - val_binary_accuracy: 0.9444\n",
      "Epoch 24/50\n",
      "15/15 [==============================] - 3s 211ms/step - loss: 0.1396 - binary_accuracy: 0.9560 - val_loss: 0.1687 - val_binary_accuracy: 0.9488\n",
      "Epoch 25/50\n",
      "15/15 [==============================] - 3s 209ms/step - loss: 0.1368 - binary_accuracy: 0.9560 - val_loss: 0.1744 - val_binary_accuracy: 0.9466\n",
      "Epoch 26/50\n",
      "15/15 [==============================] - 3s 207ms/step - loss: 0.1325 - binary_accuracy: 0.9591 - val_loss: 0.1642 - val_binary_accuracy: 0.9570\n",
      "Epoch 27/50\n",
      "15/15 [==============================] - 3s 212ms/step - loss: 0.1264 - binary_accuracy: 0.9615 - val_loss: 0.1593 - val_binary_accuracy: 0.9537\n",
      "Epoch 28/50\n",
      "15/15 [==============================] - 3s 210ms/step - loss: 0.1199 - binary_accuracy: 0.9643 - val_loss: 0.1566 - val_binary_accuracy: 0.9586\n",
      "Epoch 29/50\n",
      "15/15 [==============================] - 3s 209ms/step - loss: 0.1168 - binary_accuracy: 0.9659 - val_loss: 0.1601 - val_binary_accuracy: 0.9602\n",
      "Epoch 30/50\n",
      "15/15 [==============================] - 3s 231ms/step - loss: 0.1102 - binary_accuracy: 0.9671 - val_loss: 0.1634 - val_binary_accuracy: 0.9532\n",
      "Epoch 31/50\n",
      "15/15 [==============================] - 3s 218ms/step - loss: 0.1087 - binary_accuracy: 0.9685 - val_loss: 0.1603 - val_binary_accuracy: 0.9553\n",
      "Epoch 32/50\n",
      "15/15 [==============================] - 3s 207ms/step - loss: 0.1081 - binary_accuracy: 0.9693 - val_loss: 0.1706 - val_binary_accuracy: 0.9526\n",
      "Epoch 33/50\n",
      "15/15 [==============================] - 3s 208ms/step - loss: 0.1069 - binary_accuracy: 0.9697 - val_loss: 0.1530 - val_binary_accuracy: 0.9602\n",
      "Epoch 34/50\n",
      "15/15 [==============================] - 3s 211ms/step - loss: 0.1056 - binary_accuracy: 0.9689 - val_loss: 0.1526 - val_binary_accuracy: 0.9624\n",
      "Epoch 35/50\n",
      "15/15 [==============================] - 3s 209ms/step - loss: 0.1025 - binary_accuracy: 0.9706 - val_loss: 0.1585 - val_binary_accuracy: 0.9602\n",
      "Epoch 36/50\n",
      "15/15 [==============================] - 3s 211ms/step - loss: 0.1064 - binary_accuracy: 0.9691 - val_loss: 0.1598 - val_binary_accuracy: 0.9592\n",
      "Epoch 37/50\n",
      "15/15 [==============================] - 3s 209ms/step - loss: 0.1015 - binary_accuracy: 0.9699 - val_loss: 0.1606 - val_binary_accuracy: 0.9570\n",
      "Epoch 38/50\n",
      "15/15 [==============================] - 3s 206ms/step - loss: 0.1007 - binary_accuracy: 0.9700 - val_loss: 0.1763 - val_binary_accuracy: 0.9542\n",
      "Epoch 39/50\n"
     ]
    },
    {
     "name": "stdout",
     "output_type": "stream",
     "text": [
      "15/15 [==============================] - 3s 206ms/step - loss: 0.0987 - binary_accuracy: 0.9716 - val_loss: 0.1588 - val_binary_accuracy: 0.9581\n",
      "Epoch 40/50\n",
      "15/15 [==============================] - 3s 205ms/step - loss: 0.0960 - binary_accuracy: 0.9709 - val_loss: 0.1638 - val_binary_accuracy: 0.9564\n",
      "Epoch 41/50\n",
      "15/15 [==============================] - 3s 210ms/step - loss: 0.0936 - binary_accuracy: 0.9724 - val_loss: 0.1680 - val_binary_accuracy: 0.9553\n",
      "Epoch 42/50\n",
      "15/15 [==============================] - 3s 211ms/step - loss: 0.0920 - binary_accuracy: 0.9726 - val_loss: 0.1571 - val_binary_accuracy: 0.9586\n",
      "Epoch 43/50\n",
      "15/15 [==============================] - 3s 209ms/step - loss: 0.0948 - binary_accuracy: 0.9723 - val_loss: 0.1653 - val_binary_accuracy: 0.9553\n",
      "Epoch 44/50\n",
      "15/15 [==============================] - 3s 211ms/step - loss: 0.0941 - binary_accuracy: 0.9728 - val_loss: 0.1638 - val_binary_accuracy: 0.9597\n",
      "Epoch 45/50\n",
      "15/15 [==============================] - 3s 215ms/step - loss: 0.0926 - binary_accuracy: 0.9731 - val_loss: 0.1600 - val_binary_accuracy: 0.9575\n",
      "Epoch 46/50\n",
      "15/15 [==============================] - 3s 209ms/step - loss: 0.0914 - binary_accuracy: 0.9730 - val_loss: 0.1620 - val_binary_accuracy: 0.9581\n",
      "Epoch 47/50\n",
      "15/15 [==============================] - 3s 214ms/step - loss: 0.0964 - binary_accuracy: 0.9717 - val_loss: 0.1700 - val_binary_accuracy: 0.9553\n",
      "Epoch 48/50\n",
      "15/15 [==============================] - 3s 207ms/step - loss: 0.0947 - binary_accuracy: 0.9716 - val_loss: 0.1578 - val_binary_accuracy: 0.9575\n",
      "Epoch 49/50\n",
      "15/15 [==============================] - 3s 211ms/step - loss: 0.0885 - binary_accuracy: 0.9733 - val_loss: 0.1667 - val_binary_accuracy: 0.9537\n",
      "Epoch 50/50\n",
      "15/15 [==============================] - 3s 214ms/step - loss: 0.0872 - binary_accuracy: 0.9740 - val_loss: 0.1593 - val_binary_accuracy: 0.9630\n",
      "16/16 [==============================] - 1s 39ms/step - loss: 0.1995 - binary_accuracy: 0.9522\n",
      "[0.19946058094501495, 0.9521937966346741]\n"
     ]
    }
   ],
   "source": [
    "prediction = []\n",
    "prediction_index = []\n",
    "early_stopping = EarlyStopping(patience=5)\n",
    "histories = []\n",
    "kf = KFold(n_splits=5)\n",
    "\n",
    "strategy = tf.distribute.MirroredStrategy()\n",
    "\n",
    "for train_index, test_index in kf.split(totalX):\n",
    "    with strategy.scope():\n",
    "        model = Sequential()\n",
    "        model.add(Embedding(input_vocab_size, EMBEDDING_DIM,input_length = maxLength, \n",
    "                            weights=[embedding_matrix],\n",
    "                            trainable=False))\n",
    "        # model.add(Embedding(input_vocab_size, embedding_dim,input_length = maxLength))\n",
    "        # model.add(GRU(256, dropout=0.5, return_sequences=True))\n",
    "        # model.add(GRU(256, dropout=0.5))\n",
    "        model.add(Bidirectional(LSTM(256, dropout=0.5, return_sequences=True)))\n",
    "        model.add(Bidirectional(LSTM(256, dropout=0.5)))\n",
    "        model.add(Dense(num_categories, activation='sigmoid'))\n",
    "        model.compile(loss='binary_crossentropy', optimizer='adam', metrics=['binary_accuracy'])    \n",
    "\n",
    "    \n",
    "    trainX = totalX[train_index]\n",
    "    trainY = totalY[train_index]\n",
    "    histories.append(model.fit(trainX, trainY, validation_split=0.1, batch_size=128, epochs=50))\n",
    "    testX = totalX[test_index]\n",
    "    testY = totalY[test_index]\n",
    "    print(model.evaluate(testX, testY))\n",
    "    prediction_index.extend(data_files.loc[test_index]['trial_id'].values.tolist())\n",
    "    prediction.extend(model.predict(testX))"
   ]
  },
  {
   "cell_type": "code",
   "execution_count": 31,
   "metadata": {},
   "outputs": [],
   "source": [
    "# import csv\n",
    "# with open('extracted_factors_gru.csv', 'w') as ofile:\n",
    "#     csv_writer = csv.writer(ofile, delimiter=',', quotechar='\"')\n",
    "#     csv_writer.writerow(['trial_id'] + list(data_files.columns)[2:13])\n",
    "#     for idx, predict in zip(prediction_index, prediction):\n",
    "#         csv_writer.writerow([idx] + list(predict>0.5))"
   ]
  },
  {
   "cell_type": "code",
   "execution_count": 32,
   "metadata": {},
   "outputs": [],
   "source": [
    "# for idx, predict in zip(prediction_index, prediction):\n",
    "#     print(np.where(predict>0.5), 1, 0)\n",
    "#     break"
   ]
  },
  {
   "cell_type": "code",
   "execution_count": 33,
   "metadata": {},
   "outputs": [
    {
     "data": {
      "image/png": "[encoded data removed]",
      "text/plain": [
       "<Figure size 432x288 with 1 Axes>"
      ]
     },
     "metadata": {
      "needs_background": "light"
     },
     "output_type": "display_data"
    },
    {
     "data": {
      "image/png": "[encoded data removed]",
      "text/plain": [
       "<Figure size 432x288 with 1 Axes>"
      ]
     },
     "metadata": {
      "needs_background": "light"
     },
     "output_type": "display_data"
    },
    {
     "data": {
      "image/png": "[encoded data removed]",
      "text/plain": [
       "<Figure size 432x288 with 1 Axes>"
      ]
     },
     "metadata": {
      "needs_background": "light"
     },
     "output_type": "display_data"
    },
    {
     "data": {
      "image/png": "[encoded data removed]",
      "text/plain": [
       "<Figure size 432x288 with 1 Axes>"
      ]
     },
     "metadata": {
      "needs_background": "light"
     },
     "output_type": "display_data"
    },
    {
     "data": {
      "image/png": "[encoded data removed]",
      "text/plain": [
       "<Figure size 432x288 with 1 Axes>"
      ]
     },
     "metadata": {
      "needs_background": "light"
     },
     "output_type": "display_data"
    },
    {
     "data": {
      "image/png": "[encoded data removed]",
      "text/plain": [
       "<Figure size 432x288 with 1 Axes>"
      ]
     },
     "metadata": {
      "needs_background": "light"
     },
     "output_type": "display_data"
    },
    {
     "data": {
      "image/png": "[encoded data removed]",
      "text/plain": [
       "<Figure size 432x288 with 1 Axes>"
      ]
     },
     "metadata": {
      "needs_background": "light"
     },
     "output_type": "display_data"
    },
    {
     "data": {
      "image/png": "[encoded data removed]",
      "text/plain": [
       "<Figure size 432x288 with 1 Axes>"
      ]
     },
     "metadata": {
      "needs_background": "light"
     },
     "output_type": "display_data"
    },
    {
     "data": {
      "image/png": "[encoded data removed]",
      "text/plain": [
       "<Figure size 432x288 with 1 Axes>"
      ]
     },
     "metadata": {
      "needs_background": "light"
     },
     "output_type": "display_data"
    },
    {
     "data": {
      "image/png": "[encoded data removed]",
      "text/plain": [
       "<Figure size 432x288 with 1 Axes>"
      ]
     },
     "metadata": {
      "needs_background": "light"
     },
     "output_type": "display_data"
    }
   ],
   "source": [
    "import matplotlib.pyplot as plt\n",
    "\n",
    "\n",
    "for history in histories:\n",
    "    \n",
    "    plt.figure()\n",
    "    \n",
    "    acc = history.history['binary_accuracy']\n",
    "    val_acc = history.history['val_binary_accuracy']\n",
    "    loss = history.history['loss']\n",
    "    val_loss = history.history['val_loss']\n",
    "\n",
    "    epochs = range(len(acc))\n",
    "\n",
    "    plt.plot(epochs, acc, label='Training acc')\n",
    "    plt.plot(epochs, val_acc, label='Validation acc')\n",
    "    plt.title('Training and validation accuracy')\n",
    "    plt.legend()\n",
    "\n",
    "    plt.figure()\n",
    "\n",
    "    plt.plot(epochs, loss,  label='Training loss')\n",
    "    plt.plot(epochs, val_loss, label='Validation loss')\n",
    "    plt.title('Training and validation loss')\n",
    "    plt.legend()\n",
    "\n",
    "plt.show()\n"
   ]
  },
  {
   "cell_type": "code",
   "execution_count": 34,
   "metadata": {},
   "outputs": [],
   "source": [
    "import csv\n",
    "with open('extracted_factors_lstm_word2vec.csv', 'w') as ofile:\n",
    "    csv_writer = csv.writer(ofile, delimiter=',', quotechar='\"')\n",
    "    csv_writer.writerow(['trial_id'] + list(data_files.columns)[2:7] + \n",
    "                       list(data_files.columns)[8:10] +\n",
    "                       list(data_files.columns)[11:13])\n",
    "    for idx, predict in zip(prediction_index, prediction):\n",
    "        csv_writer.writerow([idx] + list(predict>0.5))"
   ]
  },
  {
   "cell_type": "code",
   "execution_count": null,
   "metadata": {},
   "outputs": [],
   "source": []
  }
 ],
 "metadata": {
  "kernelspec": {
   "display_name": "Python 3",
   "language": "python",
   "name": "python3"
  },
  "language_info": {
   "codemirror_mode": {
    "name": "ipython",
    "version": 3
   },
   "file_extension": ".py",
   "mimetype": "text/x-python",
   "name": "python",
   "nbconvert_exporter": "python",
   "pygments_lexer": "ipython3",
   "version": "3.6.5"
  }
 },
 "nbformat": 4,
 "nbformat_minor": 4
}
