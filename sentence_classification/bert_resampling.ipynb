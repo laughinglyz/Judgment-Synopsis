{
 "cells": [
  {
   "cell_type": "code",
   "execution_count": 1,
   "metadata": {},
   "outputs": [],
   "source": [
    "import csv\n",
    "import os\n",
    "import re\n",
    "from datetime import datetime\n",
    "\n",
    "import bert\n",
    "import nltk\n",
    "import numpy as np\n",
    "import pandas as pd\n",
    "import sklearn\n",
    "import sklearn.metrics\n",
    "import tensorflow as tf\n",
    "import tensorflow_hub as hub\n",
    "import tensorflow_text as text\n",
    "from nltk.tokenize import word_tokenize\n",
    "from official.nlp import optimization\n",
    "from sklearn.model_selection import KFold, train_test_split\n",
    "from tensorflow.keras.callbacks import EarlyStopping\n",
    "from tensorflow.keras.layers import Dense, Dropout\n",
    "from tensorflow.keras.models import Sequential\n",
    "from tqdm import tqdm"
   ]
  },
  {
   "cell_type": "code",
   "execution_count": 2,
   "metadata": {
    "scrolled": true
   },
   "outputs": [],
   "source": [
    "# Include this block so that keras \n",
    "# # would not use up all the GPU memory.\n",
    "# from keras.backend.tensorflow_backend import set_session\n",
    "# import tensorflow as tf\n",
    "# config = tf.compat.v1.ConfigProto()\n",
    "# config.gpu_options.allow_growth = True  # dynamically grow the memory used on the GPU\n",
    "# # config.log_device_placement = True  # to log device placement (on which device the operation ran)\n",
    "# sess = tf.Session(config=config)\n",
    "# set_session(sess)  # set this TensorFlow session as the default session for Keras"
   ]
  },
  {
   "cell_type": "code",
   "execution_count": 3,
   "metadata": {},
   "outputs": [
    {
     "data": {
      "text/plain": [
       "[PhysicalDevice(name='/physical_device:GPU:0', device_type='GPU'),\n",
       " PhysicalDevice(name='/physical_device:GPU:1', device_type='GPU')]"
      ]
     },
     "execution_count": 3,
     "metadata": {},
     "output_type": "execute_result"
    }
   ],
   "source": [
    "tf.config.list_physical_devices('GPU')"
   ]
  },
  {
   "cell_type": "code",
   "execution_count": 4,
   "metadata": {},
   "outputs": [],
   "source": [
    "OUTPUT_DIR = './model/'\n",
    "datafiles_path = './data/drug_sentence_classification.csv'\n",
    "data_files = pd.read_csv(datafiles_path)"
   ]
  },
  {
   "cell_type": "code",
   "execution_count": 5,
   "metadata": {
    "scrolled": true
   },
   "outputs": [
    {
     "data": {
      "text/html": [
       "<div>\n",
       "<style scoped>\n",
       "    .dataframe tbody tr th:only-of-type {\n",
       "        vertical-align: middle;\n",
       "    }\n",
       "\n",
       "    .dataframe tbody tr th {\n",
       "        vertical-align: top;\n",
       "    }\n",
       "\n",
       "    .dataframe thead th {\n",
       "        text-align: right;\n",
       "    }\n",
       "</style>\n",
       "<table border=\"1\" class=\"dataframe\">\n",
       "  <thead>\n",
       "    <tr style=\"text-align: right;\">\n",
       "      <th></th>\n",
       "      <th>neutral_citation</th>\n",
       "      <th>sentence_id</th>\n",
       "      <th>important</th>\n",
       "      <th>sentence</th>\n",
       "    </tr>\n",
       "  </thead>\n",
       "  <tbody>\n",
       "    <tr>\n",
       "      <th>0</th>\n",
       "      <td>[2009] HKCFI 2104</td>\n",
       "      <td>0</td>\n",
       "      <td>False</td>\n",
       "      <td>##  HKSAR v. MWANIKI, CATHERINE WAITHIRA [2009...</td>\n",
       "    </tr>\n",
       "    <tr>\n",
       "      <th>1</th>\n",
       "      <td>[2009] HKCFI 2104</td>\n",
       "      <td>1</td>\n",
       "      <td>False</td>\n",
       "      <td>HCCC241/2008</td>\n",
       "    </tr>\n",
       "    <tr>\n",
       "      <th>2</th>\n",
       "      <td>[2009] HKCFI 2104</td>\n",
       "      <td>2</td>\n",
       "      <td>False</td>\n",
       "      <td>IN THE HIGH COURT OF THE</td>\n",
       "    </tr>\n",
       "    <tr>\n",
       "      <th>3</th>\n",
       "      <td>[2009] HKCFI 2104</td>\n",
       "      <td>3</td>\n",
       "      <td>False</td>\n",
       "      <td>HONG KONG SPECIAL ADMINISTRATIVE REGION</td>\n",
       "    </tr>\n",
       "    <tr>\n",
       "      <th>4</th>\n",
       "      <td>[2009] HKCFI 2104</td>\n",
       "      <td>4</td>\n",
       "      <td>False</td>\n",
       "      <td>COURT OF FIRST INSTANCE</td>\n",
       "    </tr>\n",
       "  </tbody>\n",
       "</table>\n",
       "</div>"
      ],
      "text/plain": [
       "    neutral_citation  sentence_id  important  \\\n",
       "0  [2009] HKCFI 2104            0      False   \n",
       "1  [2009] HKCFI 2104            1      False   \n",
       "2  [2009] HKCFI 2104            2      False   \n",
       "3  [2009] HKCFI 2104            3      False   \n",
       "4  [2009] HKCFI 2104            4      False   \n",
       "\n",
       "                                            sentence  \n",
       "0  ##  HKSAR v. MWANIKI, CATHERINE WAITHIRA [2009...  \n",
       "1                                       HCCC241/2008  \n",
       "2                           IN THE HIGH COURT OF THE  \n",
       "3            HONG KONG SPECIAL ADMINISTRATIVE REGION  \n",
       "4                            COURT OF FIRST INSTANCE  "
      ]
     },
     "execution_count": 5,
     "metadata": {},
     "output_type": "execute_result"
    }
   ],
   "source": [
    "data_files.head()"
   ]
  },
  {
   "cell_type": "code",
   "execution_count": 6,
   "metadata": {},
   "outputs": [],
   "source": [
    "#Clean up the data\n",
    "\n",
    "#Function to clean up data\n",
    "#•Only take characters inside A-Za-z\n",
    "#•remove stop words\n",
    "#•lemmatize"
   ]
  },
  {
   "cell_type": "code",
   "execution_count": 7,
   "metadata": {},
   "outputs": [],
   "source": [
    "def cleanUpSentence(r):\n",
    "    strip_special_chars = re.compile(\"[^A-Za-z0-9, ]+\")\n",
    "    r = r.lower().replace(\"<br />\", \" \")\n",
    "    r = re.sub(strip_special_chars, \"\", r.lower())\n",
    "    words = word_tokenize(r)\n",
    "    filtered_sentence = []\n",
    "    for w in words:\n",
    "        if any(map(str.isdigit, w)):\n",
    "            filtered_sentence.append(\"0\")\n",
    "        elif w:\n",
    "            filtered_sentence.append(w)\n",
    "    return \" \".join(filtered_sentence),len(filtered_sentence)"
   ]
  },
  {
   "cell_type": "code",
   "execution_count": 8,
   "metadata": {
    "scrolled": true
   },
   "outputs": [],
   "source": [
    "def clean_data(datas_X,datas_Y):    \n",
    "    totalX = []\n",
    "    totalY = np.array(datas_Y).reshape((-1,1))\n",
    "    maxLength = 0\n",
    "    with tqdm(total=datas_X.shape[0], unit_scale=True) as pbar:\n",
    "        for i, doc in enumerate(datas_X):\n",
    "            #直接在这里去除\\n，防止\\n可能会让两句话连接处的两个单词连在一起\n",
    "            doc = doc.replace(\"\\n\",\" \")\n",
    "            sent,sent_len = cleanUpSentence(doc)\n",
    "            maxLength = max(maxLength,sent_len)\n",
    "            totalX.append(sent)\n",
    "            pbar.update()\n",
    "    print(\"max input length is: \",maxLength)\n",
    "    totalX=np.array(totalX)\n",
    "    return totalX,totalY,maxLength"
   ]
  },
  {
   "cell_type": "code",
   "execution_count": 9,
   "metadata": {
    "scrolled": false
   },
   "outputs": [],
   "source": [
    "def preprocess(data_df,train_frac=0.8,neg_resample_frac=0.25):\n",
    "    totalX,totalY,maxLength = clean_data(data_df['sentence'],data_df['important'].astype(int))\n",
    "    empty_pred = data_files[totalX==''].reset_index(drop=True)\n",
    "    empty_pred['important'] = [False] * empty_pred.shape[0]\n",
    "    total_df = data_files[totalX!=''][['neutral_citation','sentence_id']].reset_index(drop=True)\n",
    "    total_df['X'],total_df['Y'] = totalX[totalX!=''],totalY[totalX!='']\n",
    "    pos_df,neg_df = total_df[total_df['Y'] != 0],total_df[total_df['Y'] == 0]\n",
    "    print(\"positive sample size: \", pos_df.shape[0])\n",
    "    train_pos,test_pos = train_test_split(pos_df,train_size=train_frac,random_state=1)\n",
    "    train_neg,test_neg = train_test_split(neg_df,train_size=train_frac*neg_resample_frac,random_state=1)\n",
    "    train_df = train_pos.append(train_neg).sample(frac=1).reset_index(drop=True)\n",
    "    test_df = test_pos.append(test_neg).sample(frac=1).reset_index(drop=True)\n",
    "    return empty_pred,train_df,test_df,maxLength"
   ]
  },
  {
   "cell_type": "code",
   "execution_count": 10,
   "metadata": {},
   "outputs": [
    {
     "name": "stderr",
     "output_type": "stream",
     "text": [
      "100%|██████████| 299k/299k [00:49<00:00, 6.06kit/s] \n"
     ]
    },
    {
     "name": "stdout",
     "output_type": "stream",
     "text": [
      "max input length is:  267\n",
      "positive sample size:  66978\n"
     ]
    },
    {
     "data": {
      "text/html": [
       "<div>\n",
       "<style scoped>\n",
       "    .dataframe tbody tr th:only-of-type {\n",
       "        vertical-align: middle;\n",
       "    }\n",
       "\n",
       "    .dataframe tbody tr th {\n",
       "        vertical-align: top;\n",
       "    }\n",
       "\n",
       "    .dataframe thead th {\n",
       "        text-align: right;\n",
       "    }\n",
       "</style>\n",
       "<table border=\"1\" class=\"dataframe\">\n",
       "  <thead>\n",
       "    <tr style=\"text-align: right;\">\n",
       "      <th></th>\n",
       "      <th>neutral_citation</th>\n",
       "      <th>sentence_id</th>\n",
       "      <th>X</th>\n",
       "      <th>Y</th>\n",
       "    </tr>\n",
       "  </thead>\n",
       "  <tbody>\n",
       "    <tr>\n",
       "      <th>0</th>\n",
       "      <td>[2018] HKDC 282</td>\n",
       "      <td>111</td>\n",
       "      <td>0 has 0 previous convictions , of which nine a...</td>\n",
       "      <td>1</td>\n",
       "    </tr>\n",
       "    <tr>\n",
       "      <th>1</th>\n",
       "      <td>[2018] HKCFI 1400</td>\n",
       "      <td>1</td>\n",
       "      <td>hccc 0</td>\n",
       "      <td>0</td>\n",
       "    </tr>\n",
       "    <tr>\n",
       "      <th>2</th>\n",
       "      <td>[2013] HKCFI 680</td>\n",
       "      <td>1</td>\n",
       "      <td>hccc 0</td>\n",
       "      <td>0</td>\n",
       "    </tr>\n",
       "    <tr>\n",
       "      <th>3</th>\n",
       "      <td>[2009] HKDC 1508</td>\n",
       "      <td>33</td>\n",
       "      <td>very properly , he quotes the case of secretar...</td>\n",
       "      <td>1</td>\n",
       "    </tr>\n",
       "    <tr>\n",
       "      <th>4</th>\n",
       "      <td>[2014] HKCFI 2238</td>\n",
       "      <td>124</td>\n",
       "      <td>i adopt a starting point of 0 months</td>\n",
       "      <td>0</td>\n",
       "    </tr>\n",
       "    <tr>\n",
       "      <th>...</th>\n",
       "      <td>...</td>\n",
       "      <td>...</td>\n",
       "      <td>...</td>\n",
       "      <td>...</td>\n",
       "    </tr>\n",
       "    <tr>\n",
       "      <th>212904</th>\n",
       "      <td>[2011] HKCFI 1229</td>\n",
       "      <td>41</td>\n",
       "      <td>so far as the possession charge is concerned ,...</td>\n",
       "      <td>0</td>\n",
       "    </tr>\n",
       "    <tr>\n",
       "      <th>212905</th>\n",
       "      <td>[2018] HKCFI 1788</td>\n",
       "      <td>45</td>\n",
       "      <td>he and his cohabitee has a son born three days...</td>\n",
       "      <td>1</td>\n",
       "    </tr>\n",
       "    <tr>\n",
       "      <th>212906</th>\n",
       "      <td>[2017] HKDC 447</td>\n",
       "      <td>44</td>\n",
       "      <td>0</td>\n",
       "      <td>0</td>\n",
       "    </tr>\n",
       "    <tr>\n",
       "      <th>212907</th>\n",
       "      <td>[2019] HKDC 458</td>\n",
       "      <td>32</td>\n",
       "      <td>the police also found on the defendant an elec...</td>\n",
       "      <td>0</td>\n",
       "    </tr>\n",
       "    <tr>\n",
       "      <th>212908</th>\n",
       "      <td>[2012] HKDC 537</td>\n",
       "      <td>94</td>\n",
       "      <td>we should perhaps repeat what was said in hksa...</td>\n",
       "      <td>0</td>\n",
       "    </tr>\n",
       "  </tbody>\n",
       "</table>\n",
       "<p>212909 rows × 4 columns</p>\n",
       "</div>"
      ],
      "text/plain": [
       "          neutral_citation  sentence_id  \\\n",
       "0          [2018] HKDC 282          111   \n",
       "1        [2018] HKCFI 1400            1   \n",
       "2         [2013] HKCFI 680            1   \n",
       "3         [2009] HKDC 1508           33   \n",
       "4        [2014] HKCFI 2238          124   \n",
       "...                    ...          ...   \n",
       "212904   [2011] HKCFI 1229           41   \n",
       "212905   [2018] HKCFI 1788           45   \n",
       "212906     [2017] HKDC 447           44   \n",
       "212907     [2019] HKDC 458           32   \n",
       "212908     [2012] HKDC 537           94   \n",
       "\n",
       "                                                        X  Y  \n",
       "0       0 has 0 previous convictions , of which nine a...  1  \n",
       "1                                                  hccc 0  0  \n",
       "2                                                  hccc 0  0  \n",
       "3       very properly , he quotes the case of secretar...  1  \n",
       "4                    i adopt a starting point of 0 months  0  \n",
       "...                                                   ... ..  \n",
       "212904  so far as the possession charge is concerned ,...  0  \n",
       "212905  he and his cohabitee has a son born three days...  1  \n",
       "212906                                                  0  0  \n",
       "212907  the police also found on the defendant an elec...  0  \n",
       "212908  we should perhaps repeat what was said in hksa...  0  \n",
       "\n",
       "[212909 rows x 4 columns]"
      ]
     },
     "execution_count": 10,
     "metadata": {},
     "output_type": "execute_result"
    }
   ],
   "source": [
    "empty_pred,train_df,test_df,maxLength = preprocess(data_files,neg_resample_frac=1)\n",
    "train_df"
   ]
  },
  {
   "cell_type": "code",
   "execution_count": 11,
   "metadata": {},
   "outputs": [
    {
     "data": {
      "text/html": [
       "<div>\n",
       "<style scoped>\n",
       "    .dataframe tbody tr th:only-of-type {\n",
       "        vertical-align: middle;\n",
       "    }\n",
       "\n",
       "    .dataframe tbody tr th {\n",
       "        vertical-align: top;\n",
       "    }\n",
       "\n",
       "    .dataframe thead th {\n",
       "        text-align: right;\n",
       "    }\n",
       "</style>\n",
       "<table border=\"1\" class=\"dataframe\">\n",
       "  <thead>\n",
       "    <tr style=\"text-align: right;\">\n",
       "      <th></th>\n",
       "      <th>neutral_citation</th>\n",
       "      <th>sentence_id</th>\n",
       "      <th>important</th>\n",
       "      <th>sentence</th>\n",
       "    </tr>\n",
       "  </thead>\n",
       "  <tbody>\n",
       "    <tr>\n",
       "      <th>0</th>\n",
       "      <td>[2009] HKCFI 2104</td>\n",
       "      <td>6</td>\n",
       "      <td>False</td>\n",
       "      <td>&gt; \\----------------------</td>\n",
       "    </tr>\n",
       "    <tr>\n",
       "      <th>1</th>\n",
       "      <td>[2009] HKCFI 2104</td>\n",
       "      <td>8</td>\n",
       "      <td>False</td>\n",
       "      <td>&gt; \\----------------------</td>\n",
       "    </tr>\n",
       "    <tr>\n",
       "      <th>2</th>\n",
       "      <td>[2009] HKCFI 2105</td>\n",
       "      <td>6</td>\n",
       "      <td>False</td>\n",
       "      <td>&gt; \\----------------------</td>\n",
       "    </tr>\n",
       "    <tr>\n",
       "      <th>3</th>\n",
       "      <td>[2009] HKCFI 2105</td>\n",
       "      <td>8</td>\n",
       "      <td>False</td>\n",
       "      <td>&gt; \\----------------------</td>\n",
       "    </tr>\n",
       "    <tr>\n",
       "      <th>4</th>\n",
       "      <td>[2009] HKCFI 2105</td>\n",
       "      <td>42</td>\n",
       "      <td>False</td>\n",
       "      <td>&gt;</td>\n",
       "    </tr>\n",
       "    <tr>\n",
       "      <th>...</th>\n",
       "      <td>...</td>\n",
       "      <td>...</td>\n",
       "      <td>...</td>\n",
       "      <td>...</td>\n",
       "    </tr>\n",
       "    <tr>\n",
       "      <th>32560</th>\n",
       "      <td>[2012] HKCFI 1705</td>\n",
       "      <td>59</td>\n",
       "      <td>False</td>\n",
       "      <td>&gt;</td>\n",
       "    </tr>\n",
       "    <tr>\n",
       "      <th>32561</th>\n",
       "      <td>[2012] HKCFI 795</td>\n",
       "      <td>6</td>\n",
       "      <td>False</td>\n",
       "      <td>\\-----------------</td>\n",
       "    </tr>\n",
       "    <tr>\n",
       "      <th>32562</th>\n",
       "      <td>[2012] HKCFI 795</td>\n",
       "      <td>8</td>\n",
       "      <td>False</td>\n",
       "      <td>\\-----------------</td>\n",
       "    </tr>\n",
       "    <tr>\n",
       "      <th>32563</th>\n",
       "      <td>[2012] HKCFI 795</td>\n",
       "      <td>10</td>\n",
       "      <td>False</td>\n",
       "      <td>\\---------------------------------</td>\n",
       "    </tr>\n",
       "    <tr>\n",
       "      <th>32564</th>\n",
       "      <td>[2012] HKCFI 795</td>\n",
       "      <td>12</td>\n",
       "      <td>False</td>\n",
       "      <td>\\---------------------------------</td>\n",
       "    </tr>\n",
       "  </tbody>\n",
       "</table>\n",
       "<p>32565 rows × 4 columns</p>\n",
       "</div>"
      ],
      "text/plain": [
       "        neutral_citation  sentence_id  important  \\\n",
       "0      [2009] HKCFI 2104            6      False   \n",
       "1      [2009] HKCFI 2104            8      False   \n",
       "2      [2009] HKCFI 2105            6      False   \n",
       "3      [2009] HKCFI 2105            8      False   \n",
       "4      [2009] HKCFI 2105           42      False   \n",
       "...                  ...          ...        ...   \n",
       "32560  [2012] HKCFI 1705           59      False   \n",
       "32561   [2012] HKCFI 795            6      False   \n",
       "32562   [2012] HKCFI 795            8      False   \n",
       "32563   [2012] HKCFI 795           10      False   \n",
       "32564   [2012] HKCFI 795           12      False   \n",
       "\n",
       "                                 sentence  \n",
       "0               > \\----------------------  \n",
       "1               > \\----------------------  \n",
       "2               > \\----------------------  \n",
       "3               > \\----------------------  \n",
       "4                                       >  \n",
       "...                                   ...  \n",
       "32560                                   >  \n",
       "32561                  \\-----------------  \n",
       "32562                  \\-----------------  \n",
       "32563  \\---------------------------------  \n",
       "32564  \\---------------------------------  \n",
       "\n",
       "[32565 rows x 4 columns]"
      ]
     },
     "execution_count": 11,
     "metadata": {},
     "output_type": "execute_result"
    }
   ],
   "source": [
    "empty_pred"
   ]
  },
  {
   "cell_type": "code",
   "execution_count": 12,
   "metadata": {},
   "outputs": [],
   "source": [
    "def convert_sentence_to_features(sentence, tokenizer, max_seq_len):\n",
    "    tokens = ['[CLS]']\n",
    "    tokens.extend(tokenizer.tokenize(sentence))\n",
    "    if len(tokens) > max_seq_len-1:\n",
    "        tokens = tokens[:max_seq_len-1]\n",
    "    tokens.append('[SEP]')\n",
    "    \n",
    "    segment_ids = [0] * len(tokens)\n",
    "    input_ids = tokenizer.convert_tokens_to_ids(tokens)\n",
    "    input_mask = [1] * len(input_ids)\n",
    "\n",
    "    #Zero Mask till seq_length\n",
    "    zero_mask = [0] * (max_seq_len-len(tokens))\n",
    "    input_ids.extend(zero_mask)\n",
    "    input_mask.extend(zero_mask)\n",
    "    segment_ids.extend(zero_mask)\n",
    "    \n",
    "    return input_ids, input_mask, segment_ids\n",
    "\n",
    "def convert_all_sentences(sentences, tokenizer, max_seq_len=20):\n",
    "    all_input_ids = []\n",
    "    all_input_mask = []\n",
    "    all_segment_ids = []\n",
    "    with tqdm(total=sentences.shape[0], unit_scale=True) as pbar:\n",
    "        for sentence in sentences:\n",
    "            input_ids, input_mask, segment_ids = convert_sentence_to_features(sentence, tokenizer, max_seq_len)\n",
    "            all_input_ids.append(input_ids)\n",
    "            all_input_mask.append(input_mask)\n",
    "            all_segment_ids.append(segment_ids)\n",
    "            pbar.update()\n",
    "    return np.array(all_input_ids), np.array(all_input_mask), np.array(all_segment_ids)"
   ]
  },
  {
   "cell_type": "code",
   "execution_count": 13,
   "metadata": {},
   "outputs": [
    {
     "name": "stderr",
     "output_type": "stream",
     "text": [
      "100%|██████████| 213k/213k [01:09<00:00, 3.06kit/s] \n",
      "100%|██████████| 53.2k/53.2k [00:17<00:00, 2.97kit/s]\n"
     ]
    }
   ],
   "source": [
    "VOCAB_FILE = 'bert_uncased_L-12_H-768_A-12/assets/vocab.txt'\n",
    "\n",
    "BertTokenizer = bert.bert_tokenization.FullTokenizer(VOCAB_FILE,do_lower_case=True)\n",
    "train_input_ids, train_input_mask, train_segment_ids = convert_all_sentences(train_df['X'], \n",
    "                                                                            BertTokenizer, \n",
    "                                                                            max_seq_len=maxLength)\n",
    "test_input_ids, test_input_mask, test_segment_ids = convert_all_sentences(test_df['X'], \n",
    "                                                                        BertTokenizer, \n",
    "                                                                        max_seq_len=maxLength)"
   ]
  },
  {
   "cell_type": "code",
   "execution_count": 14,
   "metadata": {},
   "outputs": [],
   "source": [
    "#Create Keras model\n",
    "#num_categories 总标签数\n",
    "num_categories = 1\n",
    "DROPOUT = 0.1\n",
    "MODEL_PATH = \"./bert_uncased_L-12_H-768_A-12\"\n",
    "\n",
    "def create_bert_classifier(max_seq_len):\n",
    "    input_ids = tf.keras.layers.Input(shape=(maxLength,), dtype=tf.int32, name='input_ids')\n",
    "    input_mask = tf.keras.layers.Input(shape=(maxLength,), dtype=tf.int32, name='input_mask')\n",
    "    segment_ids = tf.keras.layers.Input(shape=(maxLength,), dtype=tf.int32, name='segment_ids')\n",
    "    bert_inputs = dict(\n",
    "        input_word_ids=input_ids,\n",
    "        input_mask=input_mask,\n",
    "        input_type_ids=segment_ids)\n",
    "    bert_model = hub.KerasLayer(MODEL_PATH, name=\"bert\", trainable=True)\n",
    "    net = bert_model(bert_inputs)[\"pooled_output\"]\n",
    "    net = Dropout(DROPOUT, name=\"dropout\")(net)\n",
    "    net = Dense(num_categories, activation='sigmoid', name=\"logistic_output\")(net)\n",
    "    return tf.keras.Model(inputs=[input_ids,input_mask,segment_ids], outputs=net)\n"
   ]
  },
  {
   "cell_type": "code",
   "execution_count": 15,
   "metadata": {
    "scrolled": true
   },
   "outputs": [
    {
     "name": "stdout",
     "output_type": "stream",
     "text": [
      "INFO:tensorflow:Using MirroredStrategy with devices ('/device:GPU:0', '/device:GPU:1')\n",
      "INFO:tensorflow:Single-worker MultiWorkerMirroredStrategy with local_devices = ('/device:GPU:0', '/device:GPU:1'), communication = CollectiveCommunication.AUTO\n",
      "WARNING:tensorflow:From /home/fyp5/anaconda3/envs/afe/lib/python3.6/site-packages/tensorflow/python/data/ops/multi_device_iterator_ops.py:601: get_next_as_optional (from tensorflow.python.data.ops.iterator_ops) is deprecated and will be removed in a future version.\n",
      "Instructions for updating:\n",
      "Use `tf.data.Iterator.get_next_as_optional()` instead.\n",
      "INFO:tensorflow:Collective batch_all_reduce: 200 all-reduces, num_devices = 2, group_size = 2, communication_hint = AUTO, num_packs = 1\n",
      "INFO:tensorflow:Collective batch_all_reduce for IndexedSlices: 1 all-reduces, group_size = 2\n",
      "INFO:tensorflow:Collective batch_all_reduce: 1 all-reduces, num_devices = 2, group_size = 2, communication_hint = AUTO, num_packs = 1\n",
      "INFO:tensorflow:Collective batch_all_reduce: 1 all-reduces, num_devices = 2, group_size = 2, communication_hint = AUTO, num_packs = 1\n",
      "INFO:tensorflow:Collective batch_all_reduce: 1 all-reduces, num_devices = 2, group_size = 2, communication_hint = AUTO, num_packs = 1\n",
      "INFO:tensorflow:Collective batch_all_reduce: 1 all-reduces, num_devices = 2, group_size = 2, communication_hint = AUTO, num_packs = 1\n",
      "INFO:tensorflow:Collective batch_all_reduce: 200 all-reduces, num_devices = 2, group_size = 2, communication_hint = AUTO, num_packs = 1\n",
      "INFO:tensorflow:Collective batch_all_reduce for IndexedSlices: 1 all-reduces, group_size = 2\n",
      "INFO:tensorflow:Collective batch_all_reduce: 1 all-reduces, num_devices = 2, group_size = 2, communication_hint = AUTO, num_packs = 1\n",
      "INFO:tensorflow:Collective batch_all_reduce: 1 all-reduces, num_devices = 2, group_size = 2, communication_hint = AUTO, num_packs = 1\n",
      "INFO:tensorflow:Collective batch_all_reduce: 1 all-reduces, num_devices = 2, group_size = 2, communication_hint = AUTO, num_packs = 1\n",
      "INFO:tensorflow:Collective batch_all_reduce: 1 all-reduces, num_devices = 2, group_size = 2, communication_hint = AUTO, num_packs = 1\n",
      "INFO:tensorflow:Collective batch_all_reduce: 1 all-reduces, num_devices = 2, group_size = 2, communication_hint = AUTO, num_packs = 1\n",
      "INFO:tensorflow:Collective batch_all_reduce: 1 all-reduces, num_devices = 2, group_size = 2, communication_hint = AUTO, num_packs = 1\n",
      "WARNING:tensorflow:From /home/fyp5/anaconda3/envs/afe/lib/python3.6/site-packages/tensorflow/python/training/tracking/tracking.py:111: Model.state_updates (from tensorflow.python.keras.engine.training) is deprecated and will be removed in a future version.\n",
      "Instructions for updating:\n",
      "This property should not be used in TensorFlow 2.0, as updates are applied automatically.\n",
      "WARNING:tensorflow:From /home/fyp5/anaconda3/envs/afe/lib/python3.6/site-packages/tensorflow/python/training/tracking/tracking.py:111: Layer.updates (from tensorflow.python.keras.engine.base_layer) is deprecated and will be removed in a future version.\n",
      "Instructions for updating:\n",
      "This property should not be used in TensorFlow 2.0, as updates are applied automatically.\n",
      "INFO:tensorflow:Assets written to: ./model/bert_resample 2021-02-20 03:43:22.633687/assets\n"
     ]
    }
   ],
   "source": [
    "%%capture train\n",
    "\n",
    "BATCH_SIZE = 16\n",
    "EPOCHS = 3\n",
    "LEARNING_RATE = 2e-5\n",
    "WARMUP_PROPORTION = 0.1\n",
    "\n",
    "num_train_steps = int(train_df.shape[0]*0.8 / BATCH_SIZE * EPOCHS)\n",
    "num_warmup_steps = int(num_train_steps * WARMUP_PROPORTION)\n",
    "\n",
    "\n",
    "strategy = tf.distribute.experimental.MultiWorkerMirroredStrategy()\n",
    "\n",
    "trainX = {\n",
    "    \"input_ids\": train_input_ids,\n",
    "    \"input_mask\": train_input_mask,\n",
    "    \"segment_ids\": train_segment_ids\n",
    "}\n",
    "trainY = train_df['Y']\n",
    "testX = {\n",
    "    \"input_ids\": test_input_ids,\n",
    "    \"input_mask\": test_input_mask,\n",
    "    \"segment_ids\": test_segment_ids\n",
    "}\n",
    "testY = test_df['Y']\n",
    "#     print(data_files.loc[total_idx.iloc[test_index].index][['neutral_citation','sentence_id']])\n",
    "\n",
    "with strategy.scope():\n",
    "    model = create_bert_classifier(maxLength)\n",
    "    optimizer = optimization.create_optimizer(init_lr=LEARNING_RATE,\n",
    "                                      num_train_steps=num_train_steps,\n",
    "                                      num_warmup_steps=num_warmup_steps,\n",
    "                                      optimizer_type='adamw')\n",
    "\n",
    "model.compile(loss='binary_crossentropy', optimizer=optimizer, metrics=['binary_accuracy'])    \n",
    "\n",
    "history = model.fit(trainX, \n",
    "                    trainY, \n",
    "                    validation_split=0.1, \n",
    "                    batch_size=BATCH_SIZE, \n",
    "                    epochs=EPOCHS)\n",
    "\n",
    "print(model.evaluate(testX, testY, batch_size=BATCH_SIZE))\n",
    "test_df['pred_Y'] = model.predict(testX)\n",
    "\n",
    "saved_model_path = './model/bert_resample '+str(datetime.now())\n",
    "model.save(saved_model_path, include_optimizer=False)"
   ]
  },
  {
   "cell_type": "code",
   "execution_count": 16,
   "metadata": {},
   "outputs": [],
   "source": [
    "%%capture charts\n",
    "\n",
    "import matplotlib.pyplot as plt\n",
    "    \n",
    "plt.figure()\n",
    "\n",
    "acc = history.history['binary_accuracy']\n",
    "val_acc = history.history['val_binary_accuracy']\n",
    "loss = history.history['loss']\n",
    "val_loss = history.history['val_loss']\n",
    "\n",
    "epochs = range(len(acc))\n",
    "\n",
    "plt.plot(epochs, acc, label='Training acc')\n",
    "plt.plot(epochs, val_acc, label='Validation acc')\n",
    "plt.title('Training and validation accuracy')\n",
    "plt.legend()\n",
    "\n",
    "plt.figure()\n",
    "\n",
    "plt.plot(epochs, loss,  label='Training loss')\n",
    "plt.plot(epochs, val_loss, label='Validation loss')\n",
    "plt.title('Training and validation loss')\n",
    "plt.legend()\n",
    "\n",
    "plt.show()"
   ]
  },
  {
   "cell_type": "code",
   "execution_count": 17,
   "metadata": {},
   "outputs": [
    {
     "name": "stdout",
     "output_type": "stream",
     "text": [
      "Model: \"functional_1\"\n",
      "__________________________________________________________________________________________________\n",
      "Layer (type)                    Output Shape         Param #     Connected to                     \n",
      "==================================================================================================\n",
      "input_mask (InputLayer)         [(None, 267)]        0                                            \n",
      "__________________________________________________________________________________________________\n",
      "segment_ids (InputLayer)        [(None, 267)]        0                                            \n",
      "__________________________________________________________________________________________________\n",
      "input_ids (InputLayer)          [(None, 267)]        0                                            \n",
      "__________________________________________________________________________________________________\n",
      "bert (KerasLayer)               {'pooled_output': (N 109482241   input_mask[0][0]                 \n",
      "                                                                 segment_ids[0][0]                \n",
      "                                                                 input_ids[0][0]                  \n",
      "__________________________________________________________________________________________________\n",
      "dropout (Dropout)               (None, 768)          0           bert[0][13]                      \n",
      "__________________________________________________________________________________________________\n",
      "logistic_output (Dense)         (None, 1)            769         dropout[0][0]                    \n",
      "==================================================================================================\n",
      "Total params: 109,483,010\n",
      "Trainable params: 109,483,009\n",
      "Non-trainable params: 1\n",
      "__________________________________________________________________________________________________\n"
     ]
    }
   ],
   "source": [
    "model.summary()"
   ]
  },
  {
   "cell_type": "code",
   "execution_count": 32,
   "metadata": {},
   "outputs": [
    {
     "name": "stdout",
     "output_type": "stream",
     "text": [
      "Confusion Matrix for: Sentence Importance\n",
      "\n",
      "                predicted false  predicted true\n",
      "labeled false       35992            3840 \n",
      "labeled true         1896           11500 \n",
      "\n",
      "Accuracy: 0.892237168407605\n",
      "Positive: 13396\n",
      "Precision: 0.75\n",
      "Recall: 0.86\n",
      "F1: 0.8004\n"
     ]
    }
   ],
   "source": [
    "conmax = sklearn.metrics.confusion_matrix(test_df['Y'], np.array(test_df['pred_Y']>0.4).astype(int))\n",
    "print(\"Confusion Matrix for: Sentence Importance\")\n",
    "tn, fp, fn, tp = conmax.ravel()\n",
    "print(\"\"\"\n",
    "                predicted false  predicted true\n",
    "labeled false       {0: >5}           {1: >5} \n",
    "labeled true        {2: >5}           {3: >5} \n",
    "\"\"\".format(tn, fp, fn, tp))\n",
    "print(\"Accuracy: {}\".format((tp+tn)/(tp+tn+fp+fn)))\n",
    "print(\"Positive: \" + str(tp+fn))\n",
    "print(\"Precision: \" + str(round(tp/(tp+fp), 2)))\n",
    "print(\"Recall: \" + str(round(tp/(tp+fn), 2)))\n",
    "pre,rec = tp/(tp+fp), tp/(tp+fn)\n",
    "print(\"F1: {}\".format(round(2*pre*rec/(pre+rec), 4)))"
   ]
  },
  {
   "cell_type": "code",
   "execution_count": 21,
   "metadata": {},
   "outputs": [
    {
     "data": {
      "image/png": "[encoded data removed]",
      "text/plain": [
       "<Figure size 432x288 with 1 Axes>"
      ]
     },
     "metadata": {
      "needs_background": "light"
     },
     "output_type": "display_data"
    },
    {
     "data": {
      "image/png": "[encoded data removed]",
      "text/plain": [
       "<Figure size 432x288 with 1 Axes>"
      ]
     },
     "metadata": {
      "needs_background": "light"
     },
     "output_type": "display_data"
    }
   ],
   "source": [
    "charts.show()"
   ]
  },
  {
   "cell_type": "code",
   "execution_count": 22,
   "metadata": {},
   "outputs": [
    {
     "name": "stderr",
     "output_type": "stream",
     "text": [
      "IOPub data rate exceeded.\n",
      "The notebook server will temporarily stop sending output\n",
      "to the client in order to avoid crashing it.\n",
      "To change this limit, set the config variable\n",
      "`--NotebookApp.iopub_data_rate_limit`.\n",
      "\n",
      "Current values:\n",
      "NotebookApp.iopub_data_rate_limit=1000000.0 (bytes/sec)\n",
      "NotebookApp.rate_limit_window=3.0 (secs)\n",
      "\n",
      "WARNING:tensorflow:From /home/fyp5/anaconda3/envs/afe/lib/python3.6/site-packages/tensorflow/python/data/ops/multi_device_iterator_ops.py:601: get_next_as_optional (from tensorflow.python.data.ops.iterator_ops) is deprecated and will be removed in a future version.\n",
      "Instructions for updating:\n",
      "Use `tf.data.Iterator.get_next_as_optional()` instead.\n",
      "INFO:tensorflow:Collective batch_all_reduce: 200 all-reduces, num_devices = 2, group_size = 2, communication_hint = AUTO, num_packs = 1\n",
      "INFO:tensorflow:Collective batch_all_reduce for IndexedSlices: 1 all-reduces, group_size = 2\n",
      "/home/fyp5/anaconda3/envs/afe/lib/python3.6/site-packages/tensorflow/python/framework/indexed_slices.py:433: UserWarning: Converting sparse IndexedSlices to a dense Tensor of unknown shape. This may consume a large amount of memory.\n",
      "  \"Converting sparse IndexedSlices to a dense Tensor of unknown shape. \"\n",
      "INFO:tensorflow:Collective batch_all_reduce: 1 all-reduces, num_devices = 2, group_size = 2, communication_hint = AUTO, num_packs = 1\n",
      "INFO:tensorflow:Collective batch_all_reduce: 1 all-reduces, num_devices = 2, group_size = 2, communication_hint = AUTO, num_packs = 1\n",
      "INFO:tensorflow:Collective batch_all_reduce: 1 all-reduces, num_devices = 2, group_size = 2, communication_hint = AUTO, num_packs = 1\n",
      "INFO:tensorflow:Collective batch_all_reduce: 1 all-reduces, num_devices = 2, group_size = 2, communication_hint = AUTO, num_packs = 1\n",
      "INFO:tensorflow:Collective batch_all_reduce: 200 all-reduces, num_devices = 2, group_size = 2, communication_hint = AUTO, num_packs = 1\n",
      "INFO:tensorflow:Collective batch_all_reduce for IndexedSlices: 1 all-reduces, group_size = 2\n",
      "INFO:tensorflow:Collective batch_all_reduce: 1 all-reduces, num_devices = 2, group_size = 2, communication_hint = AUTO, num_packs = 1\n",
      "INFO:tensorflow:Collective batch_all_reduce: 1 all-reduces, num_devices = 2, group_size = 2, communication_hint = AUTO, num_packs = 1\n",
      "INFO:tensorflow:Collective batch_all_reduce: 1 all-reduces, num_devices = 2, group_size = 2, communication_hint = AUTO, num_packs = 1\n",
      "INFO:tensorflow:Collective batch_all_reduce: 1 all-reduces, num_devices = 2, group_size = 2, communication_hint = AUTO, num_packs = 1\n",
      "INFO:tensorflow:Collective batch_all_reduce: 1 all-reduces, num_devices = 2, group_size = 2, communication_hint = AUTO, num_packs = 1\n",
      "INFO:tensorflow:Collective batch_all_reduce: 1 all-reduces, num_devices = 2, group_size = 2, communication_hint = AUTO, num_packs = 1\n",
      "WARNING:tensorflow:From /home/fyp5/anaconda3/envs/afe/lib/python3.6/site-packages/tensorflow/python/training/tracking/tracking.py:111: Model.state_updates (from tensorflow.python.keras.engine.training) is deprecated and will be removed in a future version.\n",
      "Instructions for updating:\n",
      "This property should not be used in TensorFlow 2.0, as updates are applied automatically.\n",
      "WARNING:tensorflow:From /home/fyp5/anaconda3/envs/afe/lib/python3.6/site-packages/tensorflow/python/training/tracking/tracking.py:111: Layer.updates (from tensorflow.python.keras.engine.base_layer) is deprecated and will be removed in a future version.\n",
      "Instructions for updating:\n",
      "This property should not be used in TensorFlow 2.0, as updates are applied automatically.\n",
      "INFO:tensorflow:Assets written to: ./model/bert_resample 2021-02-20 03:43:22.633687/assets\n"
     ]
    }
   ],
   "source": [
    "train.show()"
   ]
  },
  {
   "cell_type": "code",
   "execution_count": null,
   "metadata": {},
   "outputs": [],
   "source": [
    "import csv\n",
    "with open('output/extracted_importance_bert_resample.csv', 'w') as ofile:\n",
    "    csv_writer = csv.writer(ofile, delimiter=',', quotechar='\"')\n",
    "    csv_writer.writerow(list(data_files.columns)[:-1])\n",
    "    for idx, predict in zip(prediction_index, prediction):\n",
    "        csv_writer.writerow(idx + list(predict>0.5))\n",
    "# empty_pred.to_csv('output/extracted_importance_bert_resample.csv', mode='a', header=False, index=False)"
   ]
  }
 ],
 "metadata": {
  "kernelspec": {
   "display_name": "Python 3",
   "language": "python",
   "name": "python3"
  },
  "language_info": {
   "codemirror_mode": {
    "name": "ipython",
    "version": 3
   },
   "file_extension": ".py",
   "mimetype": "text/x-python",
   "name": "python",
   "nbconvert_exporter": "python",
   "pygments_lexer": "ipython3",
   "version": "3.6.5"
  }
 },
 "nbformat": 4,
 "nbformat_minor": 4
}
