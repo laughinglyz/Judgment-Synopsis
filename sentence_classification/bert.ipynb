{
 "cells": [
  {
   "cell_type": "code",
   "execution_count": 1,
   "metadata": {},
   "outputs": [],
   "source": [
    "import csv\n",
    "import os\n",
    "import re\n",
    "\n",
    "import nltk\n",
    "import numpy as np\n",
    "import pandas as pd\n",
    "from datetime import datetime\n",
    "from nltk.tokenize import word_tokenize\n",
    "from official.nlp import optimization\n",
    "from sklearn.model_selection import KFold\n",
    "from tqdm import tqdm"
   ]
  },
  {
   "cell_type": "code",
   "execution_count": 2,
   "metadata": {},
   "outputs": [],
   "source": [
    "from tensorflow.keras.models import Sequential\n",
    "from tensorflow.keras.layers import Dense,Dropout\n",
    "from tensorflow.keras.callbacks import EarlyStopping\n",
    "import tensorflow_hub as hub\n",
    "import tensorflow_text as text\n",
    "import bert"
   ]
  },
  {
   "cell_type": "code",
   "execution_count": 3,
   "metadata": {
    "scrolled": true
   },
   "outputs": [],
   "source": [
    "# Include this block so that keras \n",
    "# # would not use up all the GPU memory.\n",
    "# from keras.backend.tensorflow_backend import set_session\n",
    "# import tensorflow as tf\n",
    "# config = tf.compat.v1.ConfigProto()\n",
    "# config.gpu_options.allow_growth = True  # dynamically grow the memory used on the GPU\n",
    "# # config.log_device_placement = True  # to log device placement (on which device the operation ran)\n",
    "# sess = tf.Session(config=config)\n",
    "# set_session(sess)  # set this TensorFlow session as the default session for Keras"
   ]
  },
  {
   "cell_type": "code",
   "execution_count": 4,
   "metadata": {},
   "outputs": [
    {
     "data": {
      "text/plain": [
       "[PhysicalDevice(name='/physical_device:GPU:0', device_type='GPU'),\n",
       " PhysicalDevice(name='/physical_device:GPU:1', device_type='GPU')]"
      ]
     },
     "execution_count": 4,
     "metadata": {},
     "output_type": "execute_result"
    }
   ],
   "source": [
    "import tensorflow as tf\n",
    "tf.config.list_physical_devices('GPU')"
   ]
  },
  {
   "cell_type": "code",
   "execution_count": 5,
   "metadata": {},
   "outputs": [],
   "source": [
    "OUTPUT_DIR = './model/'\n",
    "datafiles_path = './data/drug_sentence_classification.csv'\n",
    "data_files = pd.read_csv(datafiles_path)"
   ]
  },
  {
   "cell_type": "code",
   "execution_count": 6,
   "metadata": {
    "scrolled": true
   },
   "outputs": [
    {
     "data": {
      "text/html": [
       "<div>\n",
       "<style scoped>\n",
       "    .dataframe tbody tr th:only-of-type {\n",
       "        vertical-align: middle;\n",
       "    }\n",
       "\n",
       "    .dataframe tbody tr th {\n",
       "        vertical-align: top;\n",
       "    }\n",
       "\n",
       "    .dataframe thead th {\n",
       "        text-align: right;\n",
       "    }\n",
       "</style>\n",
       "<table border=\"1\" class=\"dataframe\">\n",
       "  <thead>\n",
       "    <tr style=\"text-align: right;\">\n",
       "      <th></th>\n",
       "      <th>neutral_citation</th>\n",
       "      <th>sentence_id</th>\n",
       "      <th>important</th>\n",
       "      <th>sentence</th>\n",
       "    </tr>\n",
       "  </thead>\n",
       "  <tbody>\n",
       "    <tr>\n",
       "      <th>0</th>\n",
       "      <td>[2009] HKCFI 2104</td>\n",
       "      <td>0</td>\n",
       "      <td>False</td>\n",
       "      <td>##  HKSAR v. MWANIKI, CATHERINE WAITHIRA [2009...</td>\n",
       "    </tr>\n",
       "    <tr>\n",
       "      <th>1</th>\n",
       "      <td>[2009] HKCFI 2104</td>\n",
       "      <td>1</td>\n",
       "      <td>False</td>\n",
       "      <td>HCCC241/2008</td>\n",
       "    </tr>\n",
       "    <tr>\n",
       "      <th>2</th>\n",
       "      <td>[2009] HKCFI 2104</td>\n",
       "      <td>2</td>\n",
       "      <td>False</td>\n",
       "      <td>IN THE HIGH COURT OF THE</td>\n",
       "    </tr>\n",
       "    <tr>\n",
       "      <th>3</th>\n",
       "      <td>[2009] HKCFI 2104</td>\n",
       "      <td>3</td>\n",
       "      <td>False</td>\n",
       "      <td>HONG KONG SPECIAL ADMINISTRATIVE REGION</td>\n",
       "    </tr>\n",
       "    <tr>\n",
       "      <th>4</th>\n",
       "      <td>[2009] HKCFI 2104</td>\n",
       "      <td>4</td>\n",
       "      <td>False</td>\n",
       "      <td>COURT OF FIRST INSTANCE</td>\n",
       "    </tr>\n",
       "  </tbody>\n",
       "</table>\n",
       "</div>"
      ],
      "text/plain": [
       "    neutral_citation  sentence_id  important  \\\n",
       "0  [2009] HKCFI 2104            0      False   \n",
       "1  [2009] HKCFI 2104            1      False   \n",
       "2  [2009] HKCFI 2104            2      False   \n",
       "3  [2009] HKCFI 2104            3      False   \n",
       "4  [2009] HKCFI 2104            4      False   \n",
       "\n",
       "                                            sentence  \n",
       "0  ##  HKSAR v. MWANIKI, CATHERINE WAITHIRA [2009...  \n",
       "1                                       HCCC241/2008  \n",
       "2                           IN THE HIGH COURT OF THE  \n",
       "3            HONG KONG SPECIAL ADMINISTRATIVE REGION  \n",
       "4                            COURT OF FIRST INSTANCE  "
      ]
     },
     "execution_count": 6,
     "metadata": {},
     "output_type": "execute_result"
    }
   ],
   "source": [
    "data_files.head()"
   ]
  },
  {
   "cell_type": "code",
   "execution_count": 7,
   "metadata": {},
   "outputs": [],
   "source": [
    "datas_X = data_files['sentence']\n",
    "datas_Y = data_files['important'].astype(int)"
   ]
  },
  {
   "cell_type": "code",
   "execution_count": 8,
   "metadata": {},
   "outputs": [
    {
     "data": {
      "text/plain": [
       "0    ##  HKSAR v. MWANIKI, CATHERINE WAITHIRA [2009...\n",
       "1                                         HCCC241/2008\n",
       "2                             IN THE HIGH COURT OF THE\n",
       "3              HONG KONG SPECIAL ADMINISTRATIVE REGION\n",
       "4                              COURT OF FIRST INSTANCE\n",
       "Name: sentence, dtype: object"
      ]
     },
     "execution_count": 8,
     "metadata": {},
     "output_type": "execute_result"
    }
   ],
   "source": [
    "datas_X.head()"
   ]
  },
  {
   "cell_type": "code",
   "execution_count": 9,
   "metadata": {
    "scrolled": true
   },
   "outputs": [
    {
     "data": {
      "text/plain": [
       "0    0\n",
       "1    0\n",
       "2    0\n",
       "3    0\n",
       "4    0\n",
       "Name: important, dtype: int64"
      ]
     },
     "execution_count": 9,
     "metadata": {},
     "output_type": "execute_result"
    }
   ],
   "source": [
    "datas_Y.head()"
   ]
  },
  {
   "cell_type": "code",
   "execution_count": 10,
   "metadata": {
    "scrolled": true
   },
   "outputs": [
    {
     "data": {
      "text/plain": [
       "'##  HKSAR v. MWANIKI, CATHERINE WAITHIRA [2009] HKCFI 2104; HCCC 241/2008 (30\\r\\nMarch 2009)'"
      ]
     },
     "execution_count": 10,
     "metadata": {},
     "output_type": "execute_result"
    }
   ],
   "source": [
    "data_example = datas_X[0]\n",
    "data_example"
   ]
  },
  {
   "cell_type": "code",
   "execution_count": 11,
   "metadata": {},
   "outputs": [
    {
     "data": {
      "text/plain": [
       "str"
      ]
     },
     "execution_count": 11,
     "metadata": {},
     "output_type": "execute_result"
    }
   ],
   "source": [
    "type(data_example)"
   ]
  },
  {
   "cell_type": "code",
   "execution_count": 12,
   "metadata": {},
   "outputs": [],
   "source": [
    "#Clean up the data\n",
    "\n",
    "#Function to clean up data\n",
    "#•Only take characters inside A-Za-z\n",
    "#•remove stop words\n",
    "#•lemmatize"
   ]
  },
  {
   "cell_type": "code",
   "execution_count": 13,
   "metadata": {},
   "outputs": [],
   "source": [
    "strip_special_chars = re.compile(\"[^A-Za-z0-9, ]+\")\n",
    "\n",
    "def cleanUpSentence(r):\n",
    "    r = r.lower().replace(\"<br />\", \" \")\n",
    "    r = re.sub(strip_special_chars, \"\", r.lower())\n",
    "    words = word_tokenize(r)\n",
    "    filtered_sentence = []\n",
    "    for w in words:\n",
    "        if any(map(str.isdigit, w)):\n",
    "            filtered_sentence.append(\"0\")\n",
    "        elif w:\n",
    "            filtered_sentence.append(w)\n",
    "    return \" \".join(filtered_sentence)"
   ]
  },
  {
   "cell_type": "code",
   "execution_count": 14,
   "metadata": {
    "scrolled": true
   },
   "outputs": [
    {
     "name": "stderr",
     "output_type": "stream",
     "text": [
      "100%|██████████| 299k/299k [00:44<00:00, 6.67kit/s]  \n"
     ]
    }
   ],
   "source": [
    "totalX = []\n",
    "totalY = np.array(datas_Y).reshape((-1,1))\n",
    "with tqdm(total=datas_X.shape[0], unit_scale=True) as pbar:\n",
    "    for i, doc in enumerate(datas_X):\n",
    "        #直接在这里去除\\n，防止\\n可能会让两句话连接处的两个单词连在一起\n",
    "        doc = doc.replace(\"\\n\",\" \")\n",
    "        totalX.append(cleanUpSentence(doc))\n",
    "        pbar.update()\n",
    "totalX=np.array(totalX)"
   ]
  },
  {
   "cell_type": "code",
   "execution_count": 15,
   "metadata": {
    "scrolled": false
   },
   "outputs": [
    {
     "data": {
      "text/html": [
       "<div>\n",
       "<style scoped>\n",
       "    .dataframe tbody tr th:only-of-type {\n",
       "        vertical-align: middle;\n",
       "    }\n",
       "\n",
       "    .dataframe tbody tr th {\n",
       "        vertical-align: top;\n",
       "    }\n",
       "\n",
       "    .dataframe thead th {\n",
       "        text-align: right;\n",
       "    }\n",
       "</style>\n",
       "<table border=\"1\" class=\"dataframe\">\n",
       "  <thead>\n",
       "    <tr style=\"text-align: right;\">\n",
       "      <th></th>\n",
       "      <th>neutral_citation</th>\n",
       "      <th>sentence_id</th>\n",
       "      <th>important</th>\n",
       "    </tr>\n",
       "  </thead>\n",
       "  <tbody>\n",
       "    <tr>\n",
       "      <th>6</th>\n",
       "      <td>[2009] HKCFI 2104</td>\n",
       "      <td>6</td>\n",
       "      <td>False</td>\n",
       "    </tr>\n",
       "    <tr>\n",
       "      <th>8</th>\n",
       "      <td>[2009] HKCFI 2104</td>\n",
       "      <td>8</td>\n",
       "      <td>False</td>\n",
       "    </tr>\n",
       "    <tr>\n",
       "      <th>41</th>\n",
       "      <td>[2009] HKCFI 2105</td>\n",
       "      <td>6</td>\n",
       "      <td>False</td>\n",
       "    </tr>\n",
       "    <tr>\n",
       "      <th>43</th>\n",
       "      <td>[2009] HKCFI 2105</td>\n",
       "      <td>8</td>\n",
       "      <td>False</td>\n",
       "    </tr>\n",
       "    <tr>\n",
       "      <th>77</th>\n",
       "      <td>[2009] HKCFI 2105</td>\n",
       "      <td>42</td>\n",
       "      <td>False</td>\n",
       "    </tr>\n",
       "    <tr>\n",
       "      <th>...</th>\n",
       "      <td>...</td>\n",
       "      <td>...</td>\n",
       "      <td>...</td>\n",
       "    </tr>\n",
       "    <tr>\n",
       "      <th>298676</th>\n",
       "      <td>[2012] HKCFI 1705</td>\n",
       "      <td>59</td>\n",
       "      <td>False</td>\n",
       "    </tr>\n",
       "    <tr>\n",
       "      <th>298686</th>\n",
       "      <td>[2012] HKCFI 795</td>\n",
       "      <td>6</td>\n",
       "      <td>False</td>\n",
       "    </tr>\n",
       "    <tr>\n",
       "      <th>298688</th>\n",
       "      <td>[2012] HKCFI 795</td>\n",
       "      <td>8</td>\n",
       "      <td>False</td>\n",
       "    </tr>\n",
       "    <tr>\n",
       "      <th>298690</th>\n",
       "      <td>[2012] HKCFI 795</td>\n",
       "      <td>10</td>\n",
       "      <td>False</td>\n",
       "    </tr>\n",
       "    <tr>\n",
       "      <th>298692</th>\n",
       "      <td>[2012] HKCFI 795</td>\n",
       "      <td>12</td>\n",
       "      <td>False</td>\n",
       "    </tr>\n",
       "  </tbody>\n",
       "</table>\n",
       "<p>32565 rows × 3 columns</p>\n",
       "</div>"
      ],
      "text/plain": [
       "         neutral_citation  sentence_id  important\n",
       "6       [2009] HKCFI 2104            6      False\n",
       "8       [2009] HKCFI 2104            8      False\n",
       "41      [2009] HKCFI 2105            6      False\n",
       "43      [2009] HKCFI 2105            8      False\n",
       "77      [2009] HKCFI 2105           42      False\n",
       "...                   ...          ...        ...\n",
       "298676  [2012] HKCFI 1705           59      False\n",
       "298686   [2012] HKCFI 795            6      False\n",
       "298688   [2012] HKCFI 795            8      False\n",
       "298690   [2012] HKCFI 795           10      False\n",
       "298692   [2012] HKCFI 795           12      False\n",
       "\n",
       "[32565 rows x 3 columns]"
      ]
     },
     "execution_count": 15,
     "metadata": {},
     "output_type": "execute_result"
    }
   ],
   "source": [
    "empty_pred = data_files[totalX==''][['neutral_citation','sentence_id']]\n",
    "empty_pred['important'] = [False] * empty_pred.shape[0]\n",
    "empty_pred"
   ]
  },
  {
   "cell_type": "code",
   "execution_count": 16,
   "metadata": {},
   "outputs": [
    {
     "data": {
      "text/plain": [
       "array(['hksar v mwaniki , catherine waithira 0 hkcfi 0 hccc 0 0 march 0',\n",
       "       '0', 'in the high court of the', ...,\n",
       "       'in all the circumstances and bearing in mind the total amount of drugs involved and the principle of totality , i consider an overall sentence of 0 years to be appropriate',\n",
       "       'to achieve that overall i sentence you to 0 years and 0 months imprisonment under charge 0 , and 0 years and 0 months imprisonment under charge 0 , and i order that 0 year and 0 months out of the 0 years and 0 months under charge 0 be served consecutively with the 0 years and 0 months under charge 0',\n",
       "       'you will therefore go to prison for a total of 0 years'],\n",
       "      dtype='<U1471')"
      ]
     },
     "execution_count": 16,
     "metadata": {},
     "output_type": "execute_result"
    }
   ],
   "source": [
    "totalX,totalY,total_idx = totalX[totalX!=''],totalY[totalX!=''],data_files[totalX!=''][['neutral_citation','sentence_id']]\n",
    "totalX"
   ]
  },
  {
   "cell_type": "code",
   "execution_count": 17,
   "metadata": {},
   "outputs": [
    {
     "data": {
      "text/html": [
       "<div>\n",
       "<style scoped>\n",
       "    .dataframe tbody tr th:only-of-type {\n",
       "        vertical-align: middle;\n",
       "    }\n",
       "\n",
       "    .dataframe tbody tr th {\n",
       "        vertical-align: top;\n",
       "    }\n",
       "\n",
       "    .dataframe thead th {\n",
       "        text-align: right;\n",
       "    }\n",
       "</style>\n",
       "<table border=\"1\" class=\"dataframe\">\n",
       "  <thead>\n",
       "    <tr style=\"text-align: right;\">\n",
       "      <th></th>\n",
       "      <th>neutral_citation</th>\n",
       "      <th>sentence_id</th>\n",
       "    </tr>\n",
       "  </thead>\n",
       "  <tbody>\n",
       "    <tr>\n",
       "      <th>0</th>\n",
       "      <td>[2009] HKCFI 2104</td>\n",
       "      <td>0</td>\n",
       "    </tr>\n",
       "    <tr>\n",
       "      <th>1</th>\n",
       "      <td>[2009] HKCFI 2104</td>\n",
       "      <td>1</td>\n",
       "    </tr>\n",
       "    <tr>\n",
       "      <th>2</th>\n",
       "      <td>[2009] HKCFI 2104</td>\n",
       "      <td>2</td>\n",
       "    </tr>\n",
       "    <tr>\n",
       "      <th>3</th>\n",
       "      <td>[2009] HKCFI 2104</td>\n",
       "      <td>3</td>\n",
       "    </tr>\n",
       "    <tr>\n",
       "      <th>4</th>\n",
       "      <td>[2009] HKCFI 2104</td>\n",
       "      <td>4</td>\n",
       "    </tr>\n",
       "    <tr>\n",
       "      <th>...</th>\n",
       "      <td>...</td>\n",
       "      <td>...</td>\n",
       "    </tr>\n",
       "    <tr>\n",
       "      <th>298697</th>\n",
       "      <td>[2012] HKCFI 795</td>\n",
       "      <td>17</td>\n",
       "    </tr>\n",
       "    <tr>\n",
       "      <th>298698</th>\n",
       "      <td>[2012] HKCFI 795</td>\n",
       "      <td>18</td>\n",
       "    </tr>\n",
       "    <tr>\n",
       "      <th>298699</th>\n",
       "      <td>[2012] HKCFI 795</td>\n",
       "      <td>19</td>\n",
       "    </tr>\n",
       "    <tr>\n",
       "      <th>298700</th>\n",
       "      <td>[2012] HKCFI 795</td>\n",
       "      <td>20</td>\n",
       "    </tr>\n",
       "    <tr>\n",
       "      <th>298701</th>\n",
       "      <td>[2012] HKCFI 795</td>\n",
       "      <td>21</td>\n",
       "    </tr>\n",
       "  </tbody>\n",
       "</table>\n",
       "<p>266137 rows × 2 columns</p>\n",
       "</div>"
      ],
      "text/plain": [
       "         neutral_citation  sentence_id\n",
       "0       [2009] HKCFI 2104            0\n",
       "1       [2009] HKCFI 2104            1\n",
       "2       [2009] HKCFI 2104            2\n",
       "3       [2009] HKCFI 2104            3\n",
       "4       [2009] HKCFI 2104            4\n",
       "...                   ...          ...\n",
       "298697   [2012] HKCFI 795           17\n",
       "298698   [2012] HKCFI 795           18\n",
       "298699   [2012] HKCFI 795           19\n",
       "298700   [2012] HKCFI 795           20\n",
       "298701   [2012] HKCFI 795           21\n",
       "\n",
       "[266137 rows x 2 columns]"
      ]
     },
     "execution_count": 17,
     "metadata": {},
     "output_type": "execute_result"
    }
   ],
   "source": [
    "total_idx"
   ]
  },
  {
   "cell_type": "code",
   "execution_count": 18,
   "metadata": {
    "scrolled": true
   },
   "outputs": [
    {
     "name": "stdout",
     "output_type": "stream",
     "text": [
      "max input length is:  267\n"
     ]
    }
   ],
   "source": [
    "xLengths = [len(word_tokenize(x)) for x in totalX]\n",
    "# h = sorted(xLengths)  #sorted lengths 升序 第一个最小\n",
    "# maxLength =h[len(h)-1]\n",
    "maxLength = max(xLengths)\n",
    "print(\"max input length is: \",maxLength)"
   ]
  },
  {
   "cell_type": "code",
   "execution_count": 19,
   "metadata": {},
   "outputs": [],
   "source": [
    "def convert_sentence_to_features(sentence, tokenizer, max_seq_len):\n",
    "    tokens = ['[CLS]']\n",
    "    tokens.extend(tokenizer.tokenize(sentence))\n",
    "    if len(tokens) > max_seq_len-1:\n",
    "        tokens = tokens[:max_seq_len-1]\n",
    "    tokens.append('[SEP]')\n",
    "    \n",
    "    segment_ids = [0] * len(tokens)\n",
    "    input_ids = tokenizer.convert_tokens_to_ids(tokens)\n",
    "    input_mask = [1] * len(input_ids)\n",
    "\n",
    "    #Zero Mask till seq_length\n",
    "    zero_mask = [0] * (max_seq_len-len(tokens))\n",
    "    input_ids.extend(zero_mask)\n",
    "    input_mask.extend(zero_mask)\n",
    "    segment_ids.extend(zero_mask)\n",
    "    \n",
    "    return input_ids, input_mask, segment_ids\n",
    "\n",
    "def convert_all_sentences(sentences, tokenizer, max_seq_len=20):\n",
    "    all_input_ids = []\n",
    "    all_input_mask = []\n",
    "    all_segment_ids = []\n",
    "    with tqdm(total=sentences.shape[0], unit_scale=True) as pbar:\n",
    "        for sentence in sentences:\n",
    "            input_ids, input_mask, segment_ids = convert_sentence_to_features(sentence, tokenizer, max_seq_len)\n",
    "            all_input_ids.append(input_ids)\n",
    "            all_input_mask.append(input_mask)\n",
    "            all_segment_ids.append(segment_ids)\n",
    "            pbar.update()\n",
    "    return np.array(all_input_ids), np.array(all_input_mask), np.array(all_segment_ids)"
   ]
  },
  {
   "cell_type": "code",
   "execution_count": 20,
   "metadata": {},
   "outputs": [
    {
     "name": "stderr",
     "output_type": "stream",
     "text": [
      "100%|██████████| 266k/266k [01:22<00:00, 3.23kit/s] \n"
     ]
    }
   ],
   "source": [
    "VOCAB_FILE = 'small_bert_bert_en_uncased_L-8_H-512_A-8_1/assets/vocab.txt'\n",
    "\n",
    "BertTokenizer = bert.bert_tokenization.FullTokenizer(VOCAB_FILE,do_lower_case=True)\n",
    "input_ids, input_mask, segment_ids = convert_all_sentences(totalX, BertTokenizer, max_seq_len=maxLength)"
   ]
  },
  {
   "cell_type": "code",
   "execution_count": 21,
   "metadata": {},
   "outputs": [
    {
     "data": {
      "text/html": [
       "<div>\n",
       "<style scoped>\n",
       "    .dataframe tbody tr th:only-of-type {\n",
       "        vertical-align: middle;\n",
       "    }\n",
       "\n",
       "    .dataframe tbody tr th {\n",
       "        vertical-align: top;\n",
       "    }\n",
       "\n",
       "    .dataframe thead th {\n",
       "        text-align: right;\n",
       "    }\n",
       "</style>\n",
       "<table border=\"1\" class=\"dataframe\">\n",
       "  <thead>\n",
       "    <tr style=\"text-align: right;\">\n",
       "      <th></th>\n",
       "      <th>neutral_citation</th>\n",
       "      <th>sentence_id</th>\n",
       "    </tr>\n",
       "  </thead>\n",
       "  <tbody>\n",
       "    <tr>\n",
       "      <th>0</th>\n",
       "      <td>[2009] HKCFI 2104</td>\n",
       "      <td>0</td>\n",
       "    </tr>\n",
       "    <tr>\n",
       "      <th>1</th>\n",
       "      <td>[2009] HKCFI 2104</td>\n",
       "      <td>1</td>\n",
       "    </tr>\n",
       "    <tr>\n",
       "      <th>2</th>\n",
       "      <td>[2009] HKCFI 2104</td>\n",
       "      <td>2</td>\n",
       "    </tr>\n",
       "    <tr>\n",
       "      <th>3</th>\n",
       "      <td>[2009] HKCFI 2104</td>\n",
       "      <td>3</td>\n",
       "    </tr>\n",
       "    <tr>\n",
       "      <th>4</th>\n",
       "      <td>[2009] HKCFI 2104</td>\n",
       "      <td>4</td>\n",
       "    </tr>\n",
       "    <tr>\n",
       "      <th>...</th>\n",
       "      <td>...</td>\n",
       "      <td>...</td>\n",
       "    </tr>\n",
       "    <tr>\n",
       "      <th>298697</th>\n",
       "      <td>[2012] HKCFI 795</td>\n",
       "      <td>17</td>\n",
       "    </tr>\n",
       "    <tr>\n",
       "      <th>298698</th>\n",
       "      <td>[2012] HKCFI 795</td>\n",
       "      <td>18</td>\n",
       "    </tr>\n",
       "    <tr>\n",
       "      <th>298699</th>\n",
       "      <td>[2012] HKCFI 795</td>\n",
       "      <td>19</td>\n",
       "    </tr>\n",
       "    <tr>\n",
       "      <th>298700</th>\n",
       "      <td>[2012] HKCFI 795</td>\n",
       "      <td>20</td>\n",
       "    </tr>\n",
       "    <tr>\n",
       "      <th>298701</th>\n",
       "      <td>[2012] HKCFI 795</td>\n",
       "      <td>21</td>\n",
       "    </tr>\n",
       "  </tbody>\n",
       "</table>\n",
       "<p>266137 rows × 2 columns</p>\n",
       "</div>"
      ],
      "text/plain": [
       "         neutral_citation  sentence_id\n",
       "0       [2009] HKCFI 2104            0\n",
       "1       [2009] HKCFI 2104            1\n",
       "2       [2009] HKCFI 2104            2\n",
       "3       [2009] HKCFI 2104            3\n",
       "4       [2009] HKCFI 2104            4\n",
       "...                   ...          ...\n",
       "298697   [2012] HKCFI 795           17\n",
       "298698   [2012] HKCFI 795           18\n",
       "298699   [2012] HKCFI 795           19\n",
       "298700   [2012] HKCFI 795           20\n",
       "298701   [2012] HKCFI 795           21\n",
       "\n",
       "[266137 rows x 2 columns]"
      ]
     },
     "execution_count": 21,
     "metadata": {},
     "output_type": "execute_result"
    }
   ],
   "source": [
    "total_idx"
   ]
  },
  {
   "cell_type": "code",
   "execution_count": 22,
   "metadata": {},
   "outputs": [
    {
     "data": {
      "text/plain": [
       "266137"
      ]
     },
     "execution_count": 22,
     "metadata": {},
     "output_type": "execute_result"
    }
   ],
   "source": [
    "#Create Keras model\n",
    "#num_categories 总标签数\n",
    "num_categories = len(totalY[0])\n",
    "num_categories\n",
    "totalX.shape[0]"
   ]
  },
  {
   "cell_type": "code",
   "execution_count": 23,
   "metadata": {},
   "outputs": [],
   "source": [
    "DROPOUT = 0.1\n",
    "MODEL_PATH = \"./small_bert_bert_en_uncased_L-8_H-512_A-8_1\"\n",
    "\n",
    "def create_bert_classifier(max_seq_len):\n",
    "    input_ids = tf.keras.layers.Input(shape=(maxLength,), dtype=tf.int32, name='input_ids')\n",
    "    input_mask = tf.keras.layers.Input(shape=(maxLength,), dtype=tf.int32, name='input_mask')\n",
    "    segment_ids = tf.keras.layers.Input(shape=(maxLength,), dtype=tf.int32, name='segment_ids')\n",
    "    bert_inputs = dict(\n",
    "        input_word_ids=input_ids,\n",
    "        input_mask=input_mask,\n",
    "        input_type_ids=segment_ids)\n",
    "    bert_model = hub.KerasLayer(MODEL_PATH, name=\"bert\", trainable=True)\n",
    "    net = bert_model(bert_inputs)[\"pooled_output\"]\n",
    "    net = Dropout(DROPOUT, name=\"dropout\")(net)\n",
    "    net = Dense(num_categories, activation='sigmoid', name=\"logistic output\")(net)\n",
    "    return tf.keras.Model(inputs=[input_ids,input_mask,segment_ids], outputs=net)\n"
   ]
  },
  {
   "cell_type": "code",
   "execution_count": 24,
   "metadata": {
    "scrolled": true
   },
   "outputs": [
    {
     "name": "stdout",
     "output_type": "stream",
     "text": [
      "INFO:tensorflow:Using MirroredStrategy with devices ('/device:GPU:0', '/device:GPU:1')\n",
      "INFO:tensorflow:Single-worker MultiWorkerMirroredStrategy with local_devices = ('/device:GPU:0', '/device:GPU:1'), communication = CollectiveCommunication.AUTO\n",
      "WARNING:tensorflow:From /home/fyp5/anaconda3/envs/afe/lib/python3.6/site-packages/tensorflow/python/data/ops/multi_device_iterator_ops.py:601: get_next_as_optional (from tensorflow.python.data.ops.iterator_ops) is deprecated and will be removed in a future version.\n",
      "Instructions for updating:\n",
      "Use `tf.data.Iterator.get_next_as_optional()` instead.\n",
      "INFO:tensorflow:Collective batch_all_reduce: 136 all-reduces, num_devices = 2, group_size = 2, communication_hint = AUTO, num_packs = 1\n",
      "INFO:tensorflow:Collective batch_all_reduce for IndexedSlices: 1 all-reduces, group_size = 2\n",
      "INFO:tensorflow:Collective batch_all_reduce: 1 all-reduces, num_devices = 2, group_size = 2, communication_hint = AUTO, num_packs = 1\n",
      "INFO:tensorflow:Collective batch_all_reduce: 1 all-reduces, num_devices = 2, group_size = 2, communication_hint = AUTO, num_packs = 1\n",
      "INFO:tensorflow:Collective batch_all_reduce: 1 all-reduces, num_devices = 2, group_size = 2, communication_hint = AUTO, num_packs = 1\n",
      "INFO:tensorflow:Collective batch_all_reduce: 1 all-reduces, num_devices = 2, group_size = 2, communication_hint = AUTO, num_packs = 1\n",
      "INFO:tensorflow:Collective batch_all_reduce: 136 all-reduces, num_devices = 2, group_size = 2, communication_hint = AUTO, num_packs = 1\n",
      "INFO:tensorflow:Collective batch_all_reduce for IndexedSlices: 1 all-reduces, group_size = 2\n",
      "INFO:tensorflow:Collective batch_all_reduce: 1 all-reduces, num_devices = 2, group_size = 2, communication_hint = AUTO, num_packs = 1\n",
      "INFO:tensorflow:Collective batch_all_reduce: 1 all-reduces, num_devices = 2, group_size = 2, communication_hint = AUTO, num_packs = 1\n",
      "INFO:tensorflow:Collective batch_all_reduce: 1 all-reduces, num_devices = 2, group_size = 2, communication_hint = AUTO, num_packs = 1\n",
      "INFO:tensorflow:Collective batch_all_reduce: 1 all-reduces, num_devices = 2, group_size = 2, communication_hint = AUTO, num_packs = 1\n",
      "INFO:tensorflow:Collective batch_all_reduce: 1 all-reduces, num_devices = 2, group_size = 2, communication_hint = AUTO, num_packs = 1\n",
      "INFO:tensorflow:Collective batch_all_reduce: 1 all-reduces, num_devices = 2, group_size = 2, communication_hint = AUTO, num_packs = 1\n",
      "WARNING:tensorflow:From /home/fyp5/anaconda3/envs/afe/lib/python3.6/site-packages/tensorflow/python/training/tracking/tracking.py:111: Model.state_updates (from tensorflow.python.keras.engine.training) is deprecated and will be removed in a future version.\n",
      "Instructions for updating:\n",
      "This property should not be used in TensorFlow 2.0, as updates are applied automatically.\n",
      "WARNING:tensorflow:From /home/fyp5/anaconda3/envs/afe/lib/python3.6/site-packages/tensorflow/python/training/tracking/tracking.py:111: Layer.updates (from tensorflow.python.keras.engine.base_layer) is deprecated and will be removed in a future version.\n",
      "Instructions for updating:\n",
      "This property should not be used in TensorFlow 2.0, as updates are applied automatically.\n",
      "INFO:tensorflow:Assets written to: ./model/0_bert/assets\n",
      "INFO:tensorflow:Collective batch_all_reduce: 136 all-reduces, num_devices = 2, group_size = 2, communication_hint = AUTO, num_packs = 1\n",
      "INFO:tensorflow:Collective batch_all_reduce for IndexedSlices: 1 all-reduces, group_size = 2\n",
      "INFO:tensorflow:Collective batch_all_reduce: 136 all-reduces, num_devices = 2, group_size = 2, communication_hint = AUTO, num_packs = 1\n",
      "INFO:tensorflow:Collective batch_all_reduce for IndexedSlices: 1 all-reduces, group_size = 2\n",
      "INFO:tensorflow:Assets written to: ./model/1_bert/assets\n",
      "INFO:tensorflow:Collective batch_all_reduce: 136 all-reduces, num_devices = 2, group_size = 2, communication_hint = AUTO, num_packs = 1\n",
      "INFO:tensorflow:Collective batch_all_reduce for IndexedSlices: 1 all-reduces, group_size = 2\n",
      "INFO:tensorflow:Collective batch_all_reduce: 136 all-reduces, num_devices = 2, group_size = 2, communication_hint = AUTO, num_packs = 1\n",
      "INFO:tensorflow:Collective batch_all_reduce for IndexedSlices: 1 all-reduces, group_size = 2\n",
      "INFO:tensorflow:Assets written to: ./model/2_bert/assets\n",
      "INFO:tensorflow:Collective batch_all_reduce: 136 all-reduces, num_devices = 2, group_size = 2, communication_hint = AUTO, num_packs = 1\n",
      "INFO:tensorflow:Collective batch_all_reduce for IndexedSlices: 1 all-reduces, group_size = 2\n",
      "INFO:tensorflow:Collective batch_all_reduce: 136 all-reduces, num_devices = 2, group_size = 2, communication_hint = AUTO, num_packs = 1\n",
      "INFO:tensorflow:Collective batch_all_reduce for IndexedSlices: 1 all-reduces, group_size = 2\n",
      "INFO:tensorflow:Assets written to: ./model/3_bert/assets\n",
      "INFO:tensorflow:Collective batch_all_reduce: 136 all-reduces, num_devices = 2, group_size = 2, communication_hint = AUTO, num_packs = 1\n",
      "INFO:tensorflow:Collective batch_all_reduce for IndexedSlices: 1 all-reduces, group_size = 2\n",
      "INFO:tensorflow:Collective batch_all_reduce: 136 all-reduces, num_devices = 2, group_size = 2, communication_hint = AUTO, num_packs = 1\n",
      "INFO:tensorflow:Collective batch_all_reduce for IndexedSlices: 1 all-reduces, group_size = 2\n",
      "INFO:tensorflow:Assets written to: ./model/4_bert/assets\n"
     ]
    }
   ],
   "source": [
    "%%capture train\n",
    "\n",
    "kf = KFold(n_splits=5,shuffle=True)\n",
    "early_stopping = EarlyStopping(patience=5,restore_best_weights=True)\n",
    "\n",
    "BATCH_SIZE = 64\n",
    "EPOCHS = 3\n",
    "LEARNING_RATE = 2e-5\n",
    "WARMUP_PROPORTION = 0.1\n",
    "\n",
    "num_train_steps = int(totalX.shape[0]*0.8 / BATCH_SIZE * EPOCHS)\n",
    "num_warmup_steps = int(num_train_steps * WARMUP_PROPORTION)\n",
    "\n",
    "prediction = []\n",
    "prediction_index = []\n",
    "histories = []\n",
    "\n",
    "loop = 0\n",
    "strategy = tf.distribute.experimental.MultiWorkerMirroredStrategy()\n",
    "\n",
    "for train_index, test_index in kf.split(totalX):\n",
    "    trainX = {\n",
    "        \"input_ids\": input_ids[train_index],\n",
    "        \"input_mask\": input_mask[train_index],\n",
    "        \"segment_ids\": segment_ids[train_index]\n",
    "    }\n",
    "    trainY = totalY[train_index]\n",
    "    testX = {\n",
    "        \"input_ids\": input_ids[test_index],\n",
    "        \"input_mask\": input_mask[test_index],\n",
    "        \"segment_ids\": segment_ids[test_index]\n",
    "    }\n",
    "    testY = totalY[test_index]\n",
    "#     print(data_files.loc[total_idx.iloc[test_index].index][['neutral_citation','sentence_id']])\n",
    "    \n",
    "    with strategy.scope():\n",
    "        model = create_bert_classifier(maxLength)\n",
    "        optimizer = optimization.create_optimizer(init_lr=LEARNING_RATE,\n",
    "                                          num_train_steps=num_train_steps,\n",
    "                                          num_warmup_steps=num_warmup_steps,\n",
    "                                          optimizer_type='adamw')\n",
    "        \n",
    "    model.compile(loss='binary_crossentropy', optimizer=optimizer, metrics=['binary_accuracy'])    \n",
    "    \n",
    "    histories.append(model.fit(trainX, \n",
    "                               trainY, \n",
    "                               validation_split=0.1, \n",
    "                               batch_size=BATCH_SIZE, \n",
    "                               epochs=EPOCHS))\n",
    "    \n",
    "    print(model.evaluate(testX, testY, batch_size=BATCH_SIZE))\n",
    "    prediction_index.extend(data_files.loc[total_idx.iloc[test_index].index][['neutral_citation','sentence_id']].values.tolist())\n",
    "    prediction.extend(model.predict(testX))\n",
    "    \n",
    "    saved_model_path = './model/{}_bert '.format(loop)+str(datetime.now())\n",
    "    model.save(saved_model_path, include_optimizer=False, overwrite=True)\n",
    "    loop+=1\n",
    "    "
   ]
  },
  {
   "cell_type": "code",
   "execution_count": 25,
   "metadata": {},
   "outputs": [],
   "source": [
    "%%capture charts\n",
    "\n",
    "import matplotlib.pyplot as plt\n",
    "\n",
    "\n",
    "for history in histories:\n",
    "    \n",
    "    plt.figure()\n",
    "    \n",
    "    acc = history.history['binary_accuracy']\n",
    "    val_acc = history.history['val_binary_accuracy']\n",
    "    loss = history.history['loss']\n",
    "    val_loss = history.history['val_loss']\n",
    "\n",
    "    epochs = range(len(acc))\n",
    "\n",
    "    plt.plot(epochs, acc, label='Training acc')\n",
    "    plt.plot(epochs, val_acc, label='Validation acc')\n",
    "    plt.title('Training and validation accuracy')\n",
    "    plt.legend()\n",
    "\n",
    "    plt.figure()\n",
    "\n",
    "    plt.plot(epochs, loss,  label='Training loss')\n",
    "    plt.plot(epochs, val_loss, label='Validation loss')\n",
    "    plt.title('Training and validation loss')\n",
    "    plt.legend()\n",
    "\n",
    "plt.show()\n"
   ]
  },
  {
   "cell_type": "code",
   "execution_count": 26,
   "metadata": {},
   "outputs": [],
   "source": [
    "import csv\n",
    "with open('output/extracted_importance_bert.csv', 'w') as ofile:\n",
    "    csv_writer = csv.writer(ofile, delimiter=',', quotechar='\"')\n",
    "    csv_writer.writerow(list(data_files.columns)[:-1])\n",
    "    for idx, predict in zip(prediction_index, prediction):\n",
    "        csv_writer.writerow(idx + list(predict>0.5))\n",
    "empty_pred.to_csv('output/extracted_importance_bert.csv', mode='a', header=False, index=False)"
   ]
  },
  {
   "cell_type": "code",
   "execution_count": 29,
   "metadata": {},
   "outputs": [
    {
     "name": "stderr",
     "output_type": "stream",
     "text": [
      "IOPub data rate exceeded.\n",
      "The notebook server will temporarily stop sending output\n",
      "to the client in order to avoid crashing it.\n",
      "To change this limit, set the config variable\n",
      "`--NotebookApp.iopub_data_rate_limit`.\n",
      "\n",
      "Current values:\n",
      "NotebookApp.iopub_data_rate_limit=1000000.0 (bytes/sec)\n",
      "NotebookApp.rate_limit_window=3.0 (secs)\n",
      "\n",
      "WARNING:tensorflow:From /home/fyp5/anaconda3/envs/afe/lib/python3.6/site-packages/tensorflow/python/data/ops/multi_device_iterator_ops.py:601: get_next_as_optional (from tensorflow.python.data.ops.iterator_ops) is deprecated and will be removed in a future version.\n",
      "Instructions for updating:\n",
      "Use `tf.data.Iterator.get_next_as_optional()` instead.\n",
      "INFO:tensorflow:Collective batch_all_reduce: 136 all-reduces, num_devices = 2, group_size = 2, communication_hint = AUTO, num_packs = 1\n",
      "INFO:tensorflow:Collective batch_all_reduce for IndexedSlices: 1 all-reduces, group_size = 2\n",
      "/home/fyp5/anaconda3/envs/afe/lib/python3.6/site-packages/tensorflow/python/framework/indexed_slices.py:433: UserWarning: Converting sparse IndexedSlices to a dense Tensor of unknown shape. This may consume a large amount of memory.\n",
      "  \"Converting sparse IndexedSlices to a dense Tensor of unknown shape. \"\n",
      "INFO:tensorflow:Collective batch_all_reduce: 1 all-reduces, num_devices = 2, group_size = 2, communication_hint = AUTO, num_packs = 1\n",
      "INFO:tensorflow:Collective batch_all_reduce: 1 all-reduces, num_devices = 2, group_size = 2, communication_hint = AUTO, num_packs = 1\n",
      "INFO:tensorflow:Collective batch_all_reduce: 1 all-reduces, num_devices = 2, group_size = 2, communication_hint = AUTO, num_packs = 1\n",
      "INFO:tensorflow:Collective batch_all_reduce: 1 all-reduces, num_devices = 2, group_size = 2, communication_hint = AUTO, num_packs = 1\n",
      "INFO:tensorflow:Collective batch_all_reduce: 136 all-reduces, num_devices = 2, group_size = 2, communication_hint = AUTO, num_packs = 1\n",
      "INFO:tensorflow:Collective batch_all_reduce for IndexedSlices: 1 all-reduces, group_size = 2\n",
      "INFO:tensorflow:Collective batch_all_reduce: 1 all-reduces, num_devices = 2, group_size = 2, communication_hint = AUTO, num_packs = 1\n",
      "INFO:tensorflow:Collective batch_all_reduce: 1 all-reduces, num_devices = 2, group_size = 2, communication_hint = AUTO, num_packs = 1\n",
      "INFO:tensorflow:Collective batch_all_reduce: 1 all-reduces, num_devices = 2, group_size = 2, communication_hint = AUTO, num_packs = 1\n",
      "INFO:tensorflow:Collective batch_all_reduce: 1 all-reduces, num_devices = 2, group_size = 2, communication_hint = AUTO, num_packs = 1\n",
      "INFO:tensorflow:Collective batch_all_reduce: 1 all-reduces, num_devices = 2, group_size = 2, communication_hint = AUTO, num_packs = 1\n",
      "INFO:tensorflow:Collective batch_all_reduce: 1 all-reduces, num_devices = 2, group_size = 2, communication_hint = AUTO, num_packs = 1\n",
      "WARNING:tensorflow:From /home/fyp5/anaconda3/envs/afe/lib/python3.6/site-packages/tensorflow/python/training/tracking/tracking.py:111: Model.state_updates (from tensorflow.python.keras.engine.training) is deprecated and will be removed in a future version.\n",
      "Instructions for updating:\n",
      "This property should not be used in TensorFlow 2.0, as updates are applied automatically.\n",
      "WARNING:tensorflow:From /home/fyp5/anaconda3/envs/afe/lib/python3.6/site-packages/tensorflow/python/training/tracking/tracking.py:111: Layer.updates (from tensorflow.python.keras.engine.base_layer) is deprecated and will be removed in a future version.\n",
      "Instructions for updating:\n",
      "This property should not be used in TensorFlow 2.0, as updates are applied automatically.\n",
      "INFO:tensorflow:Assets written to: ./model/0_bert/assets\n",
      "INFO:tensorflow:Collective batch_all_reduce: 136 all-reduces, num_devices = 2, group_size = 2, communication_hint = AUTO, num_packs = 1\n",
      "INFO:tensorflow:Collective batch_all_reduce for IndexedSlices: 1 all-reduces, group_size = 2\n",
      "INFO:tensorflow:Collective batch_all_reduce: 136 all-reduces, num_devices = 2, group_size = 2, communication_hint = AUTO, num_packs = 1\n",
      "INFO:tensorflow:Collective batch_all_reduce for IndexedSlices: 1 all-reduces, group_size = 2\n",
      "INFO:tensorflow:Assets written to: ./model/1_bert/assets\n",
      "INFO:tensorflow:Collective batch_all_reduce: 136 all-reduces, num_devices = 2, group_size = 2, communication_hint = AUTO, num_packs = 1\n",
      "INFO:tensorflow:Collective batch_all_reduce for IndexedSlices: 1 all-reduces, group_size = 2\n",
      "INFO:tensorflow:Collective batch_all_reduce: 136 all-reduces, num_devices = 2, group_size = 2, communication_hint = AUTO, num_packs = 1\n",
      "INFO:tensorflow:Collective batch_all_reduce for IndexedSlices: 1 all-reduces, group_size = 2\n",
      "INFO:tensorflow:Assets written to: ./model/2_bert/assets\n",
      "INFO:tensorflow:Collective batch_all_reduce: 136 all-reduces, num_devices = 2, group_size = 2, communication_hint = AUTO, num_packs = 1\n",
      "INFO:tensorflow:Collective batch_all_reduce for IndexedSlices: 1 all-reduces, group_size = 2\n",
      "INFO:tensorflow:Collective batch_all_reduce: 136 all-reduces, num_devices = 2, group_size = 2, communication_hint = AUTO, num_packs = 1\n",
      "INFO:tensorflow:Collective batch_all_reduce for IndexedSlices: 1 all-reduces, group_size = 2\n",
      "INFO:tensorflow:Assets written to: ./model/3_bert/assets\n",
      "INFO:tensorflow:Collective batch_all_reduce: 136 all-reduces, num_devices = 2, group_size = 2, communication_hint = AUTO, num_packs = 1\n",
      "INFO:tensorflow:Collective batch_all_reduce for IndexedSlices: 1 all-reduces, group_size = 2\n",
      "INFO:tensorflow:Collective batch_all_reduce: 136 all-reduces, num_devices = 2, group_size = 2, communication_hint = AUTO, num_packs = 1\n",
      "INFO:tensorflow:Collective batch_all_reduce for IndexedSlices: 1 all-reduces, group_size = 2\n",
      "INFO:tensorflow:Assets written to: ./model/4_bert/assets\n"
     ]
    }
   ],
   "source": [
    "train.show()"
   ]
  },
  {
   "cell_type": "code",
   "execution_count": 28,
   "metadata": {},
   "outputs": [
    {
     "data": {
      "image/png": "[encoded data removed]",
      "text/plain": [
       "<Figure size 432x288 with 1 Axes>"
      ]
     },
     "metadata": {
      "needs_background": "light"
     },
     "output_type": "display_data"
    },
    {
     "data": {
      "image/png": "[encoded data removed]",
      "text/plain": [
       "<Figure size 432x288 with 1 Axes>"
      ]
     },
     "metadata": {
      "needs_background": "light"
     },
     "output_type": "display_data"
    },
    {
     "data": {
      "image/png": "[encoded data removed]",
      "text/plain": [
       "<Figure size 432x288 with 1 Axes>"
      ]
     },
     "metadata": {
      "needs_background": "light"
     },
     "output_type": "display_data"
    },
    {
     "data": {
      "image/png": "[encoded data removed]",
      "text/plain": [
       "<Figure size 432x288 with 1 Axes>"
      ]
     },
     "metadata": {
      "needs_background": "light"
     },
     "output_type": "display_data"
    },
    {
     "data": {
      "image/png": "[encoded data removed]",
      "text/plain": [
       "<Figure size 432x288 with 1 Axes>"
      ]
     },
     "metadata": {
      "needs_background": "light"
     },
     "output_type": "display_data"
    },
    {
     "data": {
      "image/png": "[encoded data removed]",
      "text/plain": [
       "<Figure size 432x288 with 1 Axes>"
      ]
     },
     "metadata": {
      "needs_background": "light"
     },
     "output_type": "display_data"
    },
    {
     "data": {
      "image/png": "[encoded data removed]",
      "text/plain": [
       "<Figure size 432x288 with 1 Axes>"
      ]
     },
     "metadata": {
      "needs_background": "light"
     },
     "output_type": "display_data"
    },
    {
     "data": {
      "image/png": "[encoded data removed]",
      "text/plain": [
       "<Figure size 432x288 with 1 Axes>"
      ]
     },
     "metadata": {
      "needs_background": "light"
     },
     "output_type": "display_data"
    },
    {
     "data": {
      "image/png": "[encoded data removed]",
      "text/plain": [
       "<Figure size 432x288 with 1 Axes>"
      ]
     },
     "metadata": {
      "needs_background": "light"
     },
     "output_type": "display_data"
    },
    {
     "data": {
      "image/png": "[encoded data removed]",
      "text/plain": [
       "<Figure size 432x288 with 1 Axes>"
      ]
     },
     "metadata": {
      "needs_background": "light"
     },
     "output_type": "display_data"
    }
   ],
   "source": [
    "charts.show()"
   ]
  },
  {
   "cell_type": "code",
   "execution_count": 30,
   "metadata": {},
   "outputs": [
    {
     "name": "stdout",
     "output_type": "stream",
     "text": [
      "Model: \"functional_9\"\n",
      "__________________________________________________________________________________________________\n",
      "Layer (type)                    Output Shape         Param #     Connected to                     \n",
      "==================================================================================================\n",
      "input_mask (InputLayer)         [(None, 267)]        0                                            \n",
      "__________________________________________________________________________________________________\n",
      "segment_ids (InputLayer)        [(None, 267)]        0                                            \n",
      "__________________________________________________________________________________________________\n",
      "input_ids (InputLayer)          [(None, 267)]        0                                            \n",
      "__________________________________________________________________________________________________\n",
      "bert (KerasLayer)               {'encoder_outputs':  41373185    input_mask[0][0]                 \n",
      "                                                                 segment_ids[0][0]                \n",
      "                                                                 input_ids[0][0]                  \n",
      "__________________________________________________________________________________________________\n",
      "dropout_4 (Dropout)             (None, 512)          0           bert[0][9]                       \n",
      "__________________________________________________________________________________________________\n",
      "dense_4 (Dense)                 (None, 1)            513         dropout_4[0][0]                  \n",
      "==================================================================================================\n",
      "Total params: 41,373,698\n",
      "Trainable params: 41,373,697\n",
      "Non-trainable params: 1\n",
      "__________________________________________________________________________________________________\n"
     ]
    }
   ],
   "source": [
    "model.summary()"
   ]
  },
  {
   "cell_type": "code",
   "execution_count": null,
   "metadata": {},
   "outputs": [],
   "source": []
  }
 ],
 "metadata": {
  "kernelspec": {
   "display_name": "Python 3",
   "language": "python",
   "name": "python3"
  },
  "language_info": {
   "codemirror_mode": {
    "name": "ipython",
    "version": 3
   },
   "file_extension": ".py",
   "mimetype": "text/x-python",
   "name": "python",
   "nbconvert_exporter": "python",
   "pygments_lexer": "ipython3",
   "version": "3.6.5"
  }
 },
 "nbformat": 4,
 "nbformat_minor": 4
}
